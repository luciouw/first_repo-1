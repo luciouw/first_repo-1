{
 "cells": [
  {
   "cell_type": "code",
   "execution_count": 1,
   "metadata": {},
   "outputs": [],
   "source": [
    "import numpy as np\n"
   ]
  },
  {
   "cell_type": "code",
   "execution_count": 20,
   "metadata": {},
   "outputs": [
    {
     "ename": "NameError",
     "evalue": "name 'pa1' is not defined",
     "output_type": "error",
     "traceback": [
      "\u001b[0;31m---------------------------------------------------------------------------\u001b[0m",
      "\u001b[0;31mNameError\u001b[0m                                 Traceback (most recent call last)",
      "\u001b[0;32m<ipython-input-20-3b715904c0be>\u001b[0m in \u001b[0;36m<module>\u001b[0;34m()\u001b[0m\n\u001b[1;32m     24\u001b[0m \u001b[0md\u001b[0m\u001b[0;34m/\u001b[0m\u001b[0mdt\u001b[0m\u001b[0;34m(\u001b[0m\u001b[0mtheta1\u001b[0m\u001b[0;34m/\u001b[0m\u001b[0;36m2\u001b[0m\u001b[0;34m)\u001b[0m\u001b[0;34m=\u001b[0m\u001b[0mb1\u001b[0m\u001b[0;34m/\u001b[0m\u001b[0;36m2\u001b[0m\u001b[0;34m\u001b[0m\u001b[0m\n\u001b[1;32m     25\u001b[0m \"\"\"\n\u001b[0;32m---> 26\u001b[0;31m \u001b[0mb1\u001b[0m\u001b[0;34m=\u001b[0m\u001b[0;36m6\u001b[0m\u001b[0;34m/\u001b[0m\u001b[0;34m(\u001b[0m\u001b[0mm\u001b[0m\u001b[0;34m*\u001b[0m\u001b[0ml\u001b[0m\u001b[0;34m**\u001b[0m\u001b[0;36m2\u001b[0m\u001b[0;34m)\u001b[0m\u001b[0;34m*\u001b[0m\u001b[0;34m(\u001b[0m\u001b[0;36m2\u001b[0m\u001b[0;34m*\u001b[0m\u001b[0mpa1\u001b[0m\u001b[0;34m-\u001b[0m\u001b[0;36m3\u001b[0m\u001b[0;34m*\u001b[0m\u001b[0mnp\u001b[0m\u001b[0;34m.\u001b[0m\u001b[0mcos\u001b[0m\u001b[0;34m(\u001b[0m\u001b[0ma1\u001b[0m\u001b[0;34m-\u001b[0m\u001b[0ma2\u001b[0m\u001b[0;34m)\u001b[0m\u001b[0;34m*\u001b[0m\u001b[0mpa2\u001b[0m\u001b[0;34m)\u001b[0m\u001b[0;34m/\u001b[0m\u001b[0;34m(\u001b[0m\u001b[0;36m16\u001b[0m\u001b[0;34m-\u001b[0m\u001b[0;36m9\u001b[0m\u001b[0;34m*\u001b[0m\u001b[0mnp\u001b[0m\u001b[0;34m.\u001b[0m\u001b[0mcos\u001b[0m\u001b[0;34m(\u001b[0m\u001b[0ma1\u001b[0m\u001b[0;34m-\u001b[0m\u001b[0ma2\u001b[0m\u001b[0;34m)\u001b[0m\u001b[0;34m**\u001b[0m\u001b[0;36m2\u001b[0m\u001b[0;34m)\u001b[0m\u001b[0;34m\u001b[0m\u001b[0m\n\u001b[0m\u001b[1;32m     27\u001b[0m \u001b[0mb2\u001b[0m\u001b[0;34m=\u001b[0m\u001b[0;36m6\u001b[0m\u001b[0;34m/\u001b[0m\u001b[0;34m(\u001b[0m\u001b[0mm\u001b[0m\u001b[0;34m*\u001b[0m\u001b[0ml\u001b[0m\u001b[0;34m**\u001b[0m\u001b[0;36m2\u001b[0m\u001b[0;34m)\u001b[0m\u001b[0;34m*\u001b[0m\u001b[0;34m(\u001b[0m\u001b[0;36m8\u001b[0m\u001b[0;34m*\u001b[0m\u001b[0mpa2\u001b[0m\u001b[0;34m-\u001b[0m\u001b[0;36m3\u001b[0m\u001b[0;34m*\u001b[0m\u001b[0mnp\u001b[0m\u001b[0;34m.\u001b[0m\u001b[0mcos\u001b[0m\u001b[0;34m(\u001b[0m\u001b[0ma1\u001b[0m\u001b[0;34m-\u001b[0m\u001b[0ma2\u001b[0m\u001b[0;34m)\u001b[0m\u001b[0;34m*\u001b[0m\u001b[0mpa1\u001b[0m\u001b[0;34m)\u001b[0m\u001b[0;34m/\u001b[0m\u001b[0;34m(\u001b[0m\u001b[0;36m16\u001b[0m\u001b[0;34m-\u001b[0m\u001b[0;36m9\u001b[0m\u001b[0;34m*\u001b[0m\u001b[0mnp\u001b[0m\u001b[0;34m.\u001b[0m\u001b[0mcos\u001b[0m\u001b[0;34m(\u001b[0m\u001b[0ma1\u001b[0m\u001b[0;34m-\u001b[0m\u001b[0ma2\u001b[0m\u001b[0;34m)\u001b[0m\u001b[0;34m**\u001b[0m\u001b[0;36m2\u001b[0m\u001b[0;34m)\u001b[0m\u001b[0;34m\u001b[0m\u001b[0m\n\u001b[1;32m     28\u001b[0m \u001b[0;34m\u001b[0m\u001b[0m\n",
      "\u001b[0;31mNameError\u001b[0m: name 'pa1' is not defined"
     ]
    }
   ],
   "source": [
    "\"\"\" \n",
    "Equations préliminaires ( surement pas toutes utiles)\n",
    "Centre de masse de la premiere tige\n",
    "a1= \\theta1 sur le graphique donné\n",
    "Toutes les équations donnée dans sa réference \n",
    "\"\"\"\n",
    "l=1\n",
    "m=1\n",
    "g=9.81\n",
    "a1=3.14/2\n",
    "a2=3.14/2\n",
    "\n",
    "x1 = l/2*np.sin(a1) \n",
    "y1 = -l/2*np.cos(a1)\n",
    "\n",
    "\"\"\" \n",
    "Centre de masse de la deuxieme tige \n",
    "a2= \\theta2 sur le graphique donné\n",
    "\"\"\"\n",
    "x2 = l*(np.sin(a1)+l/2*np.sin(a2))\n",
    "y2 = -l*(np.cos(a1)+l/2*np.cos(a2))\n",
    "\n",
    "\"\"\"\n",
    "d/dt(theta1/2)=b1/2\n",
    "\"\"\"\n",
    "b1=6/(m*l**2)*(2*pa1-3*np.cos(a1-a2)*pa2)/(16-9*np.cos(a1-a2)**2)\n",
    "b2=6/(m*l**2)*(8*pa2-3*np.cos(a1-a2)*pa1)/(16-9*np.cos(a1-a2)**2)\n",
    "\n",
    "\"\"\"\n",
    "Impulsion p/r a theta1/2\n",
    "\"\"\"\n",
    "pa1 = 1/6*m*l**2(8*b1+3*b2*np.cos(a1-a2))\n",
    "pa2 = 1/6*m*l**2(2*b2+3*b1*np.cos(a1-a2))\n",
    "\n",
    "\n",
    "\"\"\"\n",
    "Lagragien :\n",
    "\"\"\"\n",
    "L = 1/6*m*l**2*(b2**2+4*b1**2+3*b1*b2*np.cos(a1-a2))-1/2*m*g*l*(3*np.cos(a1)+np.cos(a2))\n",
    "\n",
    "\"\"\"\n",
    "d/dt(pa1/2)=qa1/2\n",
    "\"\"\"\n",
    "qa1 = -1/2*m*l**2*(b1*b2*np.sin(a1-a2)+3*g/l*np.sin(a1))\n",
    "qa2 = -1/2*m*l**2*(-b1*b2*np.sin(a1-a2)+g/l*np.sin(a2))\n",
    "\n",
    "\"\"\"\n",
    "Ce que j'ai trouver sur un site ou ils mettent que c'est les equations qu'ils utilisent pour Runge-Kunta:\n",
    "https://www.myphysicslab.com/pendulum/double-pendulum-en.html\n",
    "d/dt(w1/2)=x1/2\n",
    "\"\"\"\n",
    "b1=w1\n",
    "b2=w2\n",
    "\n",
    "x1=(-g*3*m*np.sin(a1)-m*g*sin(a1-2*a2)-2*np.sin(a1-a2)*m*(w2**2*l+w1**2*l*np.cos(a1-a2)))/(l*(3*m-m*np.cos(2*a1-2*a2)))\n",
    "x2=(2*np.sin(a1-a2)*(w1**2*l*2*m+g*2*m*np.cos(a1)+w2**2*l*m*np.cos(a1-a2)))/(l*(3*m-m*np.cos(2*a1-2*a2)))  "
   ]
  },
  {
   "cell_type": "code",
   "execution_count": null,
   "metadata": {},
   "outputs": [],
   "source": []
  }
 ],
 "metadata": {
  "kernelspec": {
   "display_name": "Python 3",
   "language": "python",
   "name": "python3"
  },
  "language_info": {
   "codemirror_mode": {
    "name": "ipython",
    "version": 3
   },
   "file_extension": ".py",
   "mimetype": "text/x-python",
   "name": "python",
   "nbconvert_exporter": "python",
   "pygments_lexer": "ipython3",
   "version": "3.6.3"
  }
 },
 "nbformat": 4,
 "nbformat_minor": 2
}
