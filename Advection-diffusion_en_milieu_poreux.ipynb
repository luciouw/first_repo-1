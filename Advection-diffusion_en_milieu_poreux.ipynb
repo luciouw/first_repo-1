{
 "cells": [
  {
   "cell_type": "markdown",
   "metadata": {},
   "source": [
    "QUESTION 2 : Module 2 segment 1 ou 3 je pense et on peut surement faire une approximation en série de taylor pcq la discrétisation d'ordre 2 coincide avec l'approximation de Taylor d'ordre 2 mais la même chose pour des opérateurs ?\n",
    "https://en.wikipedia.org/wiki/Finite_difference_coefficient"
   ]
  },
  {
   "cell_type": "code",
   "execution_count": 35,
   "metadata": {},
   "outputs": [],
   "source": [
    "import numpy\n",
    "from sympy import *\n",
    "from matplotlib import pyplot\n",
    "%matplotlib inline"
   ]
  },
  {
   "cell_type": "code",
   "execution_count": 37,
   "metadata": {},
   "outputs": [
    {
     "data": {
      "image/png": "[encoded data removed]",
      "text/latex": [
       "$$x$$"
      ],
      "text/plain": [
       "x"
      ]
     },
     "execution_count": 37,
     "metadata": {},
     "output_type": "execute_result"
    }
   ],
   "source": [
    "sympy.init_printing()\n",
    "init_printing(use_unicode=True)\n",
    "x = sympy.symbols('x')\n",
    "x"
   ]
  },
  {
   "cell_type": "markdown",
   "metadata": {},
   "source": [
    "Question 1 analytiquement"
   ]
  },
  {
   "cell_type": "code",
   "execution_count": 63,
   "metadata": {},
   "outputs": [],
   "source": [
    "(k,w,c,z,R_a,t)=sympy.symbols('k w c z R_a t')"
   ]
  },
  {
   "cell_type": "code",
   "execution_count": 64,
   "metadata": {},
   "outputs": [
    {
     "data": {
      "image/png": "[encoded data removed]",
      "text/latex": [
       "$$- k^{2} w + \\frac{d^{2}}{d z^{2}} w = - c k^{2} \\frac{d}{d t} c + \\frac{c k^{2}}{R_{a}} - \\frac{\\frac{d^{2}}{d z^{2}} c}{R_{a}}$$"
      ],
      "text/plain": [
       "                                          2   \n",
       "                                         d    \n",
       "                                        ───(c)\n",
       "           2                        2     2   \n",
       "   2      d            2 d       c⋅k    dz    \n",
       "- k ⋅w + ───(w) = - c⋅k ⋅──(c) + ──── - ──────\n",
       "           2             dt       Rₐ      Rₐ  \n",
       "         dz                                   "
      ]
     },
     "execution_count": 64,
     "metadata": {},
     "output_type": "execute_result"
    }
   ],
   "source": [
    "eq1 = (Derivative(w,z,z)-k**2*w)\n",
    "eq2 = -k**2*c*Derivative(c,t)-Derivative(c,z,z)/R_a+k**2*c/R_a\n",
    "eq3 = -2/sympy.sqrt(numpy.pi)*sympy.sqrt(R_a/(4*t))*sympy.exp(-z*sympy.sqrt(R_a/(4*t)))**2\n",
    "part1 = sympy.Eq(eq1 , eq2)\n",
    "#part2 = sympy.Eq(eq2 , eq3)\n",
    "part1\n",
    "#part2"
   ]
  },
  {
   "cell_type": "code",
   "execution_count": 65,
   "metadata": {},
   "outputs": [],
   "source": [
    "(epsilon)=sympy.symbols('epsilon')"
   ]
  },
  {
   "cell_type": "code",
   "execution_count": 66,
   "metadata": {},
   "outputs": [
    {
     "data": {
      "image/png": "[encoded data removed]",
      "text/latex": [
       "$$- k^{2} w + \\frac{d^{2}}{d z^{2}} w = \\frac{- R_{a} c k^{2} \\frac{d}{d t} c + c k^{2} - \\frac{d^{2}}{d z^{2}} c}{R_{a}}$$"
      ],
      "text/plain": [
       "                                             2   \n",
       "                          2 d          2    d    \n",
       "                  - Rₐ⋅c⋅k ⋅──(c) + c⋅k  - ───(c)\n",
       "           2                dt               2   \n",
       "   2      d                                dz    \n",
       "- k ⋅w + ───(w) = ───────────────────────────────\n",
       "           2                     Rₐ              \n",
       "         dz                                      "
      ]
     },
     "execution_count": 66,
     "metadata": {},
     "output_type": "execute_result"
    }
   ],
   "source": [
    "simp1 = sympy.simplify(part1)\n",
    "simp1.subs(epsilon, z*sympy.sqrt(R_a/(4*t)))\n",
    "simp1"
   ]
  },
  {
   "cell_type": "code",
   "execution_count": 67,
   "metadata": {},
   "outputs": [
    {
     "data": {
      "image/png": "[encoded data removed]",
      "text/latex": [
       "$$- c k^{2} \\frac{d}{d t} c + \\frac{c k^{2}}{R_{a}} - \\frac{\\frac{d^{2}}{d z^{2}} c}{R_{a}} = - 0.564189583547756 \\sqrt{\\frac{R_{a}}{t}} e^{- z \\sqrt{\\frac{R_{a}}{t}}}$$"
      ],
      "text/plain": [
       "                        2                                              \n",
       "                       d                                           ____\n",
       "                      ───(c)                                      ╱ Rₐ \n",
       "                  2     2                             ____  -z⋅  ╱  ── \n",
       "     2 d       c⋅k    dz                             ╱ Rₐ      ╲╱   t  \n",
       "- c⋅k ⋅──(c) + ──── - ────── = -0.564189583547756⋅  ╱  ── ⋅ℯ           \n",
       "       dt       Rₐ      Rₐ                        ╲╱   t               "
      ]
     },
     "execution_count": 67,
     "metadata": {},
     "output_type": "execute_result"
    }
   ],
   "source": [
    "part2 = sympy.Eq(eq2 , eq3)\n",
    "part2"
   ]
  },
  {
   "cell_type": "code",
   "execution_count": 74,
   "metadata": {},
   "outputs": [],
   "source": [
    "eq21 = (R_a/(4*t)*Derivative(w,epsilon,epsilon)-k**2*w)\n",
    "eq22 = -k**2*c*Derivative(c,t)-1/t*(1/4*Derivative(c,epsilon,epsilon)+epsilon/2*Derivative(c,epsilon)-k**2*t*c/R_a)\n",
    "eq23 = sympy.sqrt(R_a/(numpy.pi*t))*sympy.exp(-epsilon**2)*w"
   ]
  },
  {
   "cell_type": "code",
   "execution_count": 75,
   "metadata": {},
   "outputs": [
    {
     "data": {
      "image/png": "[encoded data removed]",
      "text/latex": [
       "$$\\frac{R_{a} \\frac{d^{2}}{d \\epsilon^{2}} w}{4 t} - k^{2} w = - c k^{2} \\frac{d}{d t} c - \\frac{\\frac{\\epsilon \\frac{d}{d \\epsilon} c}{2} + 0.25 \\frac{d^{2}}{d \\epsilon^{2}} c - \\frac{c k^{2} t}{R_{a}}}{t}$$"
      ],
      "text/plain": [
       "                                    d                           \n",
       "     2                            ε⋅──(c)          2         2  \n",
       "    d                               dε            d       c⋅k ⋅t\n",
       "Rₐ⋅───(w)                         ─────── + 0.25⋅───(c) - ──────\n",
       "     2                               2             2        Rₐ  \n",
       "   dε        2          2 d                      dε             \n",
       "───────── - k ⋅w = - c⋅k ⋅──(c) - ──────────────────────────────\n",
       "   4⋅t                    dt                    t               "
      ]
     },
     "execution_count": 75,
     "metadata": {},
     "output_type": "execute_result"
    }
   ],
   "source": [
    "part21 = sympy.Eq(eq21 , eq22)\n",
    "part21"
   ]
  },
  {
   "cell_type": "code",
   "execution_count": 76,
   "metadata": {},
   "outputs": [
    {
     "data": {
      "image/png": "[encoded data removed]",
      "text/latex": [
       "$$- c k^{2} \\frac{d}{d t} c - \\frac{\\frac{\\epsilon \\frac{d}{d \\epsilon} c}{2} + 0.25 \\frac{d^{2}}{d \\epsilon^{2}} c - \\frac{c k^{2} t}{R_{a}}}{t} = 0.564189583547756 w \\sqrt{\\frac{R_{a}}{t}} e^{- \\epsilon^{2}}$$"
      ],
      "text/plain": [
       "                 d                                                            \n",
       "               ε⋅──(c)          2         2                                   \n",
       "                 dε            d       c⋅k ⋅t                                 \n",
       "               ─────── + 0.25⋅───(c) - ──────                                 \n",
       "                  2             2        Rₐ                             ____  \n",
       "     2 d                      dε                                       ╱ Rₐ   \n",
       "- c⋅k ⋅──(c) - ────────────────────────────── = 0.564189583547756⋅w⋅  ╱  ── ⋅ℯ\n",
       "       dt                    t                                      ╲╱   t    \n",
       "\n",
       "   \n",
       "   \n",
       "   \n",
       "   \n",
       "  2\n",
       "-ε \n",
       "   \n",
       "   "
      ]
     },
     "execution_count": 76,
     "metadata": {},
     "output_type": "execute_result"
    }
   ],
   "source": [
    "part22 = sympy.Eq(eq22 , eq23)\n",
    "part22"
   ]
  },
  {
   "cell_type": "code",
   "execution_count": 78,
   "metadata": {},
   "outputs": [
    {
     "data": {
      "image/png": "[encoded data removed]",
      "text/latex": [
       "$$0.564189583547756 w \\sqrt{\\frac{R_{a}}{t}} e^{- \\epsilon^{2}} = - c k^{2} \\frac{d}{d t} c - \\frac{\\epsilon \\frac{d}{d \\epsilon} c}{2 t} - \\frac{0.25 \\frac{d^{2}}{d \\epsilon^{2}} c}{t} + \\frac{c k^{2}}{R_{a}}$$"
      ],
      "text/plain": [
       "                                                                    2         \n",
       "                                                                   d          \n",
       "                                                     d       0.25⋅───(c)      \n",
       "                        ____    2                  ε⋅──(c)          2         \n",
       "                       ╱ Rₐ   -ε         2 d         dε           dε       c⋅k\n",
       "0.564189583547756⋅w⋅  ╱  ── ⋅ℯ    = - c⋅k ⋅──(c) - ─────── - ─────────── + ───\n",
       "                    ╲╱   t                 dt        2⋅t          t         Rₐ\n",
       "\n",
       " \n",
       " \n",
       " \n",
       "2\n",
       " \n",
       "─\n",
       " "
      ]
     },
     "execution_count": 78,
     "metadata": {},
     "output_type": "execute_result"
    }
   ],
   "source": [
    "epsilon = -z*sympy.sqrt(R_a/(4*t))\n",
    "sympy.simplify(part22)"
   ]
  },
  {
   "cell_type": "code",
   "execution_count": null,
   "metadata": {},
   "outputs": [],
   "source": []
  }
 ],
 "metadata": {
  "kernelspec": {
   "display_name": "Python 3",
   "language": "python",
   "name": "python3"
  },
  "language_info": {
   "codemirror_mode": {
    "name": "ipython",
    "version": 3
   },
   "file_extension": ".py",
   "mimetype": "text/x-python",
   "name": "python",
   "nbconvert_exporter": "python",
   "pygments_lexer": "ipython3",
   "version": "3.7.0"
  }
 },
 "nbformat": 4,
 "nbformat_minor": 2
}
