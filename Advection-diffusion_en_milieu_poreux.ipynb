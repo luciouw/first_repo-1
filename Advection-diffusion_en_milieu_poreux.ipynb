{
 "cells": [
  {
   "cell_type": "markdown",
   "metadata": {},
   "source": [
    "QUESTION 2 : Module 2 segment 1 ou 3 je pense et on peut surement faire une approximation en série de taylor pcq la discrétisation d'ordre 2 coincide avec l'approximation de Taylor d'ordre 2 mais la même chose pour des opérateurs ?\n",
    "https://en.wikipedia.org/wiki/Finite_difference_coefficient"
   ]
  },
  {
   "cell_type": "code",
   "execution_count": 18,
   "metadata": {},
   "outputs": [],
   "source": [
    "import numpy\n",
    "import sympy\n",
    "from matplotlib import pyplot\n",
    "%matplotlib inline"
   ]
  },
  {
   "cell_type": "markdown",
   "metadata": {},
   "source": [
    "Question 1 analytiquement je te la laisse j'ai pris une photo de la résolution de eliott si tu veux"
   ]
  },
  {
   "cell_type": "markdown",
   "metadata": {},
   "source": [
    "## Question 2 "
   ]
  },
  {
   "cell_type": "markdown",
   "metadata": {},
   "source": [
    "Nous avons pour commencer la variable discrétisée $\\xi$,\n",
    "$$\\xi_m=m\\Delta$$\n",
    "où $m=0,...,100$.\n",
    "\n",
    "On a alors $c_m=c(\\xi_m,t)$ et $w_m=w(\\xi_m,t)$.\n",
    "\n",
    "En utilisant les différences finies d'ordre 2, on peut réecrire les opérateurs suivants sous forme matricielle, \n",
    "$$L_{i,j}=\\big( \\frac{R_a}{4t}\\frac{\\partial^2}{\\partial \\xi^2}-k^2\\big)_{i,j}$$\n",
    "$$M_{i,j}=\\frac{1}{t}\\big( \\frac{1}{4}\\frac{\\partial^2}{\\partial \\xi^2}+\\frac{\\xi}{2}\\frac{\\partial}{\\partial \\xi}-\\frac{k^2t}{R_a})_{i,j}$$"
   ]
  },
  {
   "cell_type": "markdown",
   "metadata": {},
   "source": [
    "Commençons avec $L_{i,j}$ : \n",
    "\n",
    "Posons la fonction $u_m=c_m$ où $u_m=w_m$. En appliquant l'opérateur sur $u_m$, il est possible d'exprimer les dérivées en différences finies. Comme nous évaluerons le dérivées d'ordre 2 dans ce travail, nous trouvons comme différence centrale finie : \n",
    "$$\\frac{\\partial^2 u}{\\partial \\xi^2}=\\frac{u_{i+1}-2u{i}+u_{i-1}}{\\Delta^2}$$\n",
    "\n",
    "(coéficient donner dans https://en.wikipedia.org/wiki/Finite_difference_coefficient)\n",
    "\n",
    "De même, pour la \"Forward and backward finite difference\", nous avons :\n",
    "$$\\frac{\\partial^2 u}{\\partial \\xi^2}=\\frac{2u_{i}-5u_{i+1}+4u_{i+2}-u_{i+3}}{\\Delta^2}$$\n",
    "$$\\frac{\\partial^2 u}{\\partial \\xi^2}=\\frac{2u_{i}-5u_{i-1}+4u_{i-2}-u_{i-3}}{\\Delta^2}$$\n",
    "\n",
    "Ceux-ci sont nécessaire pour établir les coéfficients de nos matrices aux bords (en $\\xi=0$ et $\\xi=\\infty$). Revenons à notre opérateurs. Nous voyons ensuite que nous multiplions cette dérivées secondes par un certains paramètre et qu'ensuite nous soustrayons par un autre paramètre. On a de ce fait l'expression suivante (pour i entre 1 et 99) :\n",
    "$$L_{i,j}=\\frac{R_a}{4t}\\frac{u_{i+1}-2u_{i}+u_{i-1}}{\\Delta^2}-k^2u_i$$"
   ]
  },
  {
   "cell_type": "markdown",
   "metadata": {},
   "source": [
    "On remarque que pour chaque $i$, on a 3 coeficients. A partir de ceci on peut construire une matrice pour le premier terme de $L_{i,j}$, et le deuxième terme est alors simplement le terme $k^2$ multiplier par l'identité. On aura alors : --> Matrice a mieux faire !!!\n",
    "$$L_{i,j}= \\frac{R_a}{4t\\Delta^2}\n",
    "\\quad\n",
    "\\begin{pmatrix} \n",
    ". \\\\\n",
    " & .\\\\\n",
    " & & .\\\\\n",
    " &... & 0& 1 & -2 & 1 & 0 & ... \\\\\n",
    " & &... & 0& 1 & -2 & 1 & 0 & ... \\\\\n",
    " & & & & & & & .\\\\\n",
    " & & & & & & & & .\n",
    "\\end{pmatrix}\n",
    "\\quad\n",
    "\\begin{pmatrix}\n",
    "u_0\\\\\n",
    "u_1\\\\\n",
    ".\\\\\n",
    ".\\\\\n",
    "\\end{pmatrix}\n",
    "-k^2I\n",
    "\\begin{pmatrix}\n",
    "u_0\\\\\n",
    "u_1\\\\\n",
    ".\\\\\n",
    ".\\\\\n",
    "\\end{pmatrix}$$"
   ]
  },
  {
   "cell_type": "markdown",
   "metadata": {},
   "source": [
    "Il reste à déterminer les coéficients de la première ligne et la dernière, pour ceci nous utiliserons les conditions aux bords donné dans l'énoncé. La méthode des différences finies centrale ne peut fonctionner dans le cas échéant étant donné que nous ne pouvons pas prendre l'élément précédant i.e. $u_{i-1}$. Donc nous utiliserons la méthode de forward finite difference. \n",
    "\n",
    "On a en $u_0$,\n",
    "$$\\frac{\\partial^2 u}{\\partial \\xi^2}=\\frac{2u_{0}-5u_{1}+4u_{2}-u_{3}}{\\Delta^2}$$\n",
    "\n",
    "et en $u_{100}$,\n",
    "$$\\frac{\\partial^2 u}{\\partial \\xi^2}=\\frac{2u_{100}-5u_{99}+4u_{98}-u_{97}}{\\Delta^2}$$\n",
    "\n",
    "La matrice devient alors,\n",
    "$$L_{i,j}= \\frac{R_a}{4t\\Delta^2}\n",
    "\\quad\n",
    "\\begin{pmatrix} \n",
    "2 & -5 & 4 & -1 & 0 & ...\\\\\n",
    "0 & 1 & -2 & 1 & 0 & ...\\\\\n",
    " & & .\\\\\n",
    " & & & .\\\\\n",
    " & & & & .\\\\ \n",
    " ... & 0 & 1 & -2 & 1 & 0 \\\\\n",
    "  & ... & -1 & 4 & -5 & 2\n",
    "\\end{pmatrix}\n",
    "\\quad\n",
    "\\begin{pmatrix}\n",
    "u_0\\\\\n",
    "u_1\\\\\n",
    ".\\\\\n",
    ".\\\\\n",
    "\\end{pmatrix}\n",
    "-k^2I\n",
    "\\begin{pmatrix}\n",
    "u_0\\\\\n",
    "u_1\\\\\n",
    ".\\\\\n",
    ".\\\\\n",
    "\\end{pmatrix}$$"
   ]
  },
  {
   "cell_type": "markdown",
   "metadata": {},
   "source": [
    "Mais, nous savons que en $\\xi=0$ et $\\xi=\\infty$, la valeur de $u$ est nulle, on peut les supprimer étant donné qu'ils n'interviennent plus dans la suite, (mieux formuler)\n",
    "\n",
    "La matrice devient alors,\n",
    "$$L_{i,j}= \\frac{R_a}{4t\\Delta^2}\n",
    "\\quad\n",
    "\\begin{pmatrix} \n",
    " -5 & 4 & -1 & 0 & ...\\\\\n",
    " 1 & -2 & 1 & 0 & ...\\\\\n",
    " & & .\\\\\n",
    " & & & .\\\\\n",
    " & & & & .\\\\ \n",
    " ... & 0 & 1 & -2 & 1 \\\\\n",
    "  & ... & -1 & 4 & -5\n",
    "\\end{pmatrix}\n",
    "\\quad\n",
    "\\begin{pmatrix}\n",
    "u_1\\\\\n",
    "u_2\\\\\n",
    ".\\\\\n",
    ".\\\\\n",
    "u_{99}\n",
    "\\end{pmatrix}\n",
    "-k^2I\n",
    "\\begin{pmatrix}\n",
    "u_1\\\\\n",
    "u_2\\\\\n",
    ".\\\\\n",
    ".\\\\\n",
    "u_{99}\n",
    "\\end{pmatrix}$$"
   ]
  },
  {
   "cell_type": "markdown",
   "metadata": {},
   "source": [
    "FAIRE LA MEME CHOSE POUR M"
   ]
  },
  {
   "cell_type": "code",
   "execution_count": 47,
   "metadata": {},
   "outputs": [
    {
     "name": "stdout",
     "output_type": "stream",
     "text": [
      "[[-5.  4. -1.  0.  0.  0.  0.  0.  0.]\n",
      " [ 1. -2.  1.  0.  0.  0.  0.  0.  0.]\n",
      " [ 0.  1. -2.  1.  0.  0.  0.  0.  0.]\n",
      " [ 0.  0.  1. -2.  1.  0.  0.  0.  0.]\n",
      " [ 0.  0.  0.  1. -2.  1.  0.  0.  0.]\n",
      " [ 0.  0.  0.  0.  1. -2.  1.  0.  0.]\n",
      " [ 0.  0.  0.  0.  0.  1. -2.  1.  0.]\n",
      " [ 0.  0.  0.  0.  0.  0.  1. -2.  1.]\n",
      " [ 0.  0.  0.  0.  0.  0. -1.  4. -5.]]\n"
     ]
    }
   ],
   "source": [
    "#Construction des matrices + voir si c'est mieux d'enlever les ifs\n",
    "def matrix(N):  #trouver boucle for en une ligne dans mooc\n",
    "    mat = numpy.zeros((N-2,N-2))\n",
    "    for i in range(0,N-2):\n",
    "        if i==0:\n",
    "            mat[i][0]=-5\n",
    "            mat[i][1]=4\n",
    "            mat[i][2]=-1\n",
    "        elif i==N-3:\n",
    "            mat[i][N-3]=-5\n",
    "            mat[i][N-4]=4\n",
    "            mat[i][N-5]=-1\n",
    "        else :\n",
    "            mat[i][i]=-2\n",
    "            mat[i][i-1]=1\n",
    "            mat[i][i+1]=1\n",
    "    print(mat)\n",
    "matrix(11)"
   ]
  },
  {
   "cell_type": "code",
   "execution_count": null,
   "metadata": {},
   "outputs": [],
   "source": []
  },
  {
   "cell_type": "markdown",
   "metadata": {},
   "source": [
    "## Question 3\n",
    "\n",
    "Nous allons vérifier que la fonction $f(\\xi)=e^{-\\xi^2}h(\\xi)$ est bien fonction propre de l'opérateur\n",
    "$$Hf=\\frac{1}{4}\\frac{\\partial^2 f}{\\partial \\xi^2}+\\frac{\\xi}{2}\\frac{\\partial f}{\\partial \\xi}=\\alpha f$$\n",
    "\n",
    "Pour ce faire, on a l'information que $h$ est solution de l'équation de Hermite $h''-2\\xi h'=-2\\lambda h$.\n",
    "\n",
    "Remplaçons $f$ et résolvons :\n",
    "\\begin{align*}\n",
    "Hf &= \\frac{1}{4}\\frac{\\partial^2 \\big(e^{-\\xi^2}h(\\xi)\\big)}{\\partial \\xi^2}+\\frac{\\xi}{2}\\frac{\\partial \\big(e^{-\\xi^2}h(\\xi)\\big)}{\\partial \\xi^2}\\\\\n",
    "   &= \\frac{1}{4} \\frac{\\partial}{\\partial \\xi}\\Big[(-2\\xi) e^{-\\xi^2}h(\\xi) + e^{-\\xi^2}h'(\\xi)\\Big] + \\frac{\\xi}{4}\\Big[-4\\xi e^{-\\xi^2}h(\\xi)+2e^{-\\xi^2}h'(\\xi)\\Big]\\\\\n",
    "   &= \\frac{1}{4}\\Big[-2e^{-\\xi^2}h(\\xi)+4\\xi^2e^{-\\xi^2}h(\\xi)-2\\xi e^{-\\xi^2}h'(\\xi) -2\\xi e^{-\\xi^2}h'(\\xi)+e^{-\\xi^2}h''(\\xi)\\Big]+\\frac{\\xi}{4}\\Big[-4\\xi e^{-\\xi^2}h(\\xi)+2e^{-\\xi^2}h'(\\xi)\\Big]\\\\\n",
    "   &=\\frac{e^{-\\xi^2}}{4}\\Big[h''(\\xi)-2\\xi h'(\\xi)-2h(\\xi)\\Big]\\\\\n",
    "   &=-\\frac{e^{-\\xi^2}}{2}(\\lambda+1)h(\\xi)\\\\\n",
    "   &=-\\frac{(\\lambda+1)}{2}f(\\xi)\\\\\n",
    "   &=\\alpha f(\\xi)\\\\\n",
    "\\end{align*}\n",
    "\n",
    "On remarque que $f$ est bien fonction propre de l'opérateur, et $\\alpha=\\frac{-(\\lambda+1)}{2}$. \n",
    "\n",
    "Maintenant, nous allons utiliser les valeurs aux bords pour trouver les valeurs admissibles de $\\alpha$. A FAIRE"
   ]
  },
  {
   "cell_type": "code",
   "execution_count": null,
   "metadata": {},
   "outputs": [],
   "source": []
  }
 ],
 "metadata": {
  "kernelspec": {
   "display_name": "Python 3",
   "language": "python",
   "name": "python3"
  },
  "language_info": {
   "codemirror_mode": {
    "name": "ipython",
    "version": 3
   },
   "file_extension": ".py",
   "mimetype": "text/x-python",
   "name": "python",
   "nbconvert_exporter": "python",
   "pygments_lexer": "ipython3",
   "version": "3.7.0"
  }
 },
 "nbformat": 4,
 "nbformat_minor": 2
}
