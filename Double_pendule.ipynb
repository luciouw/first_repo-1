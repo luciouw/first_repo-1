{
 "cells": [
  {
   "cell_type": "markdown",
   "metadata": {},
   "source": [
    "# Travail personnel 1 : Pendule double et Runge Kutta\n",
    "## Safae Ben Ayad & Maxime Langlet\n",
    "### 13 Novembre 2018\n"
   ]
  },
  {
   "cell_type": "markdown",
   "metadata": {},
   "source": [
    "## Introduction\n",
    "\n",
    "Dans ce travail, nous nous intéressons au problème du pendule double.\n",
    "Il s'agit d'un premier pendule à l'extrémité duquel on accroche un deuxième pendule. Chacun des deux pendules est constitué lui-même d'un barreau de longueur $l$ et de masse $m$, le tout constitue donc le pendule double. \n",
    "\n",
    "On cherche à résoudre les équations du mouvement du pendule double, pour ce faire nous allons tout d'abord décrire ce système grâce au formalisme lagrangien et résoudre celui-ci à l'aide de la méthode numérique RK4 ( Runge-Kutta d'ordre 4). Ensuite, nous discuterons de l'ordre de convergence de cette méthode, et pour finir, nous allons illustrer le système considéré à l'aide d'une animation.\n",
    "\n",
    "## Formalisme Lagrangien\n",
    "\n",
    "Nous allons prendre nos axes de la manière suivante; $y$ est l'axe horizontal avec les coordonnées positives à droite de l'origine et $x$ l'axe vertical avec les coordonées positives vers le haut. Les angles $\\theta_1$ et $\\theta_2$ sont les angles du premier et deuxième pendule respectivement. Ceux-ci sont les angles par rapport à l'axe vertical dans le sens trigonométrique.\n",
    "\n",
    "Par définition du Langrangien, $L$ vaut: $$L = K - V $$ \n",
    "\n",
    "où $K = \\frac{1}{2}(m v_1^2 + mv_2^2) + \\frac{1}{2}I(\\dot\\theta_1+\\dot\\theta_2)$ l'énergie cinétique du pendule\n",
    "et $V = mg(y_1 + y_2)$ l'énergie potentiel du pendule. \n"
   ]
  },
  {
   "cell_type": "markdown",
   "metadata": {},
   "source": [
    "En coordonnées polaires, nos paramètres sont: \n",
    "\n",
    "\\begin{align*}\n",
    "x_1 &=\\frac{l}{2}sin(\\theta_1) \\\\\n",
    "y_1 &=-\\frac{l}{2}cos(\\theta_1) \\\\\n",
    "x_2 &=l(sin(\\theta_1)+\\frac{1}{2}sin(\\theta_2)) \\\\\n",
    "y_2 &=-l(cos(\\theta_1)+\\frac{1}{2}cos(\\theta_2)) \\\\\n",
    "\\end{align*}\n",
    "\n",
    "Pour écrire le Langrangien en coordonnées polaire, on calcule les dérivées: $\\dot x_1$, $\\dot x_2$, $\\dot y_1$ et $\\dot y_2$ à fin d'écrire la vitesse en coordonnées polaires sachant que la norme de la vitesse 1 et la vitesse 2 est:\n",
    "\n",
    "\\begin{align*}\n",
    "v_1^2 &= \\dot x_1^2 + \\dot y_1^2 \\\\\n",
    "v_2^2 &= \\dot x_2^2 + \\dot y_2^2 \\\\ \n",
    "\\end{align*}\n",
    "\n",
    "Ecrivons les dérivées:\n",
    "\n",
    "\\begin{align*}\n",
    " \\dot x_1 &= \\frac{l}{2} cos(\\theta_1) \\dot\\theta_1 \\\\\n",
    " \\dot y_1 &= \\frac{l}{2} sin(\\theta_1) \\dot\\theta_1 \\\\\n",
    " \\dot x_2 &= lcos(\\theta_1) \\dot\\theta_1 + \\frac{l}{2} cos(\\theta_2) \\dot\\theta_2 \\\\ \n",
    " \\dot y_2 &= lsin(\\theta_1) \\dot\\theta_1 + \\frac{l}{2} sin(\\theta_2) \\dot\\theta_2  \\\\\n",
    "\\end{align*}\n",
    "\n",
    "Donc en remplaçant dans les expressions de $v_1^2$ et $v_2^2$:\n",
    "\n",
    "\n",
    "\\begin{align*}\n",
    " v_1^2 &= (\\frac{l}{2}cos(\\theta_1)\\dot\\theta_1)^2 + (\\frac{l}{2}sin(\\theta_1)\\dot\\theta_1)^2 \n",
    " = \\frac{l^2}{4}\\dot\\theta_1^2 \\\\\n",
    " v_2^2 &= l^2 ( cos(\\theta_1)^2 \\dot\\theta_1^2 + \\frac{1}{4}cos(\\theta_2)^2\\dot\\theta_2^2+ cos (\\theta_1) cos(\\theta_2)\\dot\\theta_1 \\dot\\theta_2 + sin(\\theta_1)^2 \\dot\\theta_1^2 + \\frac{1}{4} sin(\\theta_2)^2 \\dot\\theta_2^2 + sin(\\theta_1) sin(\\theta_2)\\dot\\theta_1 \\dot\\theta_2) \\\\\n",
    " &=  l^2 (\\dot\\theta_1^2 + \\frac{1}{4}\\dot\\theta_2^2 + \\dot\\theta_1 \\dot\\theta_2 ( cos (\\theta_1) cos(\\theta_2) + sin(\\theta_1) sin(\\theta_2)))\\\\\n",
    " &= l^2 (\\dot\\theta_1^2 + \\frac{1}{4}\\dot\\theta_2^2 + \\dot\\theta_1 \\dot\\theta_2 cos (\\theta_1 -\\theta_2) )\n",
    "\\end{align*}\n",
    "\n",
    "Remplaçons dans l'expression de l'énergie cinétique ainsi que dans celle de l'energie potentiel:\n",
    "\n",
    "\\begin{align*}\n",
    " V &=  mg(y_1 + y_2) = -mgl(\\frac{3}{2} cos(\\theta_1) +  \\frac{1}{2} cos(\\theta_2) \\\\\n",
    " &=  -\\frac{mgl}{2}(3cos(\\theta_1) +  cos(\\theta_2) \\\\\n",
    " K &= \\frac{1}{2}(m v_1^2 + mv_2^2) + \\frac{1}{2}I(\\dot\\theta_1+\\dot\\theta_2) \\\\\n",
    " &= \\frac{1}{2}m l^2 (\\frac{1}{4}\\dot\\theta_1^2 + \\dot\\theta_1^2 + \\frac{1}{4}\\dot\\theta_2^2 + \\dot\\theta_1 \\dot\\theta_2 cos (\\theta_1 -\\theta_2) + \\dot\\theta_1+\\dot\\theta_2) \\\\\n",
    " &= \\frac{ml^2}{6}\\big(\\dot\\theta_2^2+4\\dot\\theta_1^2+3\\dot\\theta_1\\dot\\theta_2cos(\\theta_1-\\theta_2)\\big)\n",
    "\\end{align*}\n",
    "\n",
    "\n",
    "Ceci nous donne une expression pour le Lagragien en coordonnées polaires :\n",
    "\n",
    "$$L=\\frac{ml^2}{6}\\big(\\dot\\theta_2^2+4\\dot\\theta_1^2+3\\dot\\theta_1\\dot\\theta_2cos(\\theta_1-\\theta_2)\\big)+\\frac{mgl}{2}\\big(3cos(\\theta_1)+cos(\\theta_2)\\big)$$\n",
    "\n",
    "Les équations d'Euler-Lagrange sont données par $$\\frac{\\partial L}{\\partial \\theta_{1/2}}-\\frac{d}{dt}\\big(\\frac{\\partial L}{\\partial \\theta_{1/2}}\\big)=0$$\n",
    "\n",
    "($\\theta_{1/2}$ dénnote simplement l'équation différentielle par rapport à $\\theta_1$ ou $\\theta_2$)"
   ]
  },
  {
   "cell_type": "markdown",
   "metadata": {},
   "source": [
    "À partit des équations d'Euler-Lagrange nous pouvons déduire les équations du mouvement, on trouve alors pour les quantités de mouvements :\n",
    "\n",
    "$$p_{\\theta_1}=\\frac{\\partial L}{\\partial \\dot\\theta_1}=\\frac{ml^2}{6}\\big(8\\dot\\theta_1+3\\dot\\theta_2 cos(\\theta_1-\\theta_2)\\big)$$\n",
    "\n",
    "$$p_{\\theta_2}=\\frac{\\partial L}{\\partial \\dot\\theta_2}=\\frac{ml^2}{6}\\big(2\\dot\\theta_2+3\\dot\\theta_1 cos(\\theta_1-\\theta_2)\\big)$$\n",
    "\n",
    "En isolant les vitesses angulaires, nous trouvons :\n",
    "\n",
    "$$\\dot\\theta_1=\\frac{6}{ml^2}\\frac{2 p_{\\theta_1}-3cos(\\theta_1-\\theta_2)p_{\\theta_2}}{16-9cos^2(\\theta_1-\\theta_2)}$$\n",
    "\n",
    "$$\\dot\\theta_2=\\frac{6}{ml^2}\\frac{8 p_{\\theta_2}-3cos(\\theta_1-\\theta_2)p_{\\theta_1}}{16-9cos^2(\\theta_1-\\theta_2)}$$\n",
    "\n",
    "Le restant des équations du mouvement sont : \n",
    "\n",
    "$$\\dot{p_{\\theta_1}}= -\\frac{ml^2}{2}\\big(\\dot\\theta_1\\dot\\theta_2sin(\\theta_1-\\theta_2)+3\\frac{g}{l}sin(\\theta_1)\\big)$$\n",
    "\n",
    "$$\\dot{p_{\\theta_2}}= -\\frac{ml^2}{2}\\big(-\\dot\\theta_1\\dot\\theta_2sin(\\theta_1-\\theta_2)+\\frac{g}{l}sin(\\theta_2)\\big)$$"
   ]
  },
  {
   "cell_type": "markdown",
   "metadata": {},
   "source": [
    "# La méthode Runge-Kunta\n",
    "## Introduction à la méthode\n",
    "\n",
    "Soit une équation différentielle du premier degré avec ses conditions initiales,\n",
    "\n",
    "$$\\dot y = f(t,y)$$\n",
    "$$y(t_0)=y_0$$\n",
    "\n",
    "où $y$ est une fonction vectorielle inconnue, dépendant du temps, que nous aimerions approximer. La fonction $f$ et les valeurs initiales nous sont données.\n",
    "\n",
    "Dans notre système du double pendule, nous aurons comme conditions initiales les valeurs suivantes : \n",
    "$$\\theta_1=\\theta_2=\\frac{\\pi}{2} , \\\\\n",
    "p_{\\theta_1}=p_{\\theta_2}=0 $$\n",
    "(car $\\dot\\theta_1=\\dot\\theta_2=0$)\n",
    "\n",
    "Dans notre système, la fonction $y$ est donnée par l'expression suivante : $$y=(\\theta_1,\\theta_2,p_{\\theta_1},p_{\\theta_2})$$\n",
    "\n",
    "Comme nous avons les expressions des dérivées de chacun de ces termes, a fonction f est alors :\n",
    "$$f=...$$\n",
    "\n",
    "#mettre en colonne+mettre f\n"
   ]
  },
  {
   "cell_type": "markdown",
   "metadata": {},
   "source": [
    "La méthode RK4 nous donnera une suite de $t_n$, dependant d'un time step $dt$ : \n",
    "$$t_n=t_{n-1}+dt$$\n",
    "\n",
    "Pour chaque $t_n$, une valeur $y_n$ sera associée en itérant l'opération suivante :\n",
    "$$y_n=y_{n-1}+\\frac{1}{6}(k_1+2k_2+2k_3+k_4)$$\n",
    "\n",
    "où, \n",
    "\\begin{align*}\n",
    "k_1&=dt.f(y_{n-1})\\\\\n",
    "k_2&=dt.f(y_{n-1}+\\frac{k_1}{2})\\\\\n",
    "k_3&=dt.f(y_{n-1}+\\frac{k_2}{2})\\\\\n",
    "k_4&=dt.f(y_{n-1}+k_3)\\\\\n",
    "\\end{align*}\n",
    "\n",
    "Nous avons adapté la méthode RK4 à notre système, ici $f$ ne dépend pas de $t$. Originellement, la fonction $f$ peut dépendre de $t$, ceci apportera certaines modifications à l'algorithmie de la méthode. \n",
    "\n",
    "La méthode RK4 estime la valeur de $y(t_{n})$, et la valeur $y_{n}$ est déterminée en fonction de $y_{n-1}$ plus la moyenne pondérée des 4 $k_i$ incréments. "
   ]
  },
  {
   "cell_type": "markdown",
   "metadata": {},
   "source": [
    "## Application de la méthode\n",
    "\n",
    "Commençons par importer les bibliothèque de language."
   ]
  },
  {
   "cell_type": "code",
   "execution_count": 2,
   "metadata": {
    "collapsed": true
   },
   "outputs": [],
   "source": [
    "import numpy as np\n",
    "import math\n",
    "from matplotlib import pyplot\n",
    "%matplotlib inline\n",
    "from matplotlib import animation\n",
    "from IPython.display import HTML"
   ]
  },
  {
   "cell_type": "markdown",
   "metadata": {},
   "source": [
    "Dans la cellule suivante, nous définissons les valeurs initiales, ainsi que notre fonction $f$ de notre équation différentielle. Nous travaillons avec des tableaux \"numpy\" car ceux-ci nous permettent d'éffectuer des opérations entre tableaux, ce qui sera essentiel pour la suite lorsque nous appliquerons RK4 sur nos listes.\n",
    "\n",
    "On remarque bien encore une fois que $f$ ne dépend pas du temps. Par la même occasion, dans la définition de la fonction $f$, nous donnons les variables à $u$."
   ]
  },
  {
   "cell_type": "code",
   "execution_count": 3,
   "metadata": {
    "collapsed": true
   },
   "outputs": [],
   "source": [
    "#Données/Conditions initiales\n",
    "l=1     #longueur\n",
    "m=1     #masse\n",
    "g=9.81\n",
    "a10=math.pi/2   #theta1 val initiale\n",
    "a20=math.pi/2   #theta2 val initiale\n",
    "pa10=0          #impulsion1 val initiale\n",
    "pa20=0          #impulsion2 val initiale\n",
    "t0=0\n",
    "T = 20.0  # length of the time interval\n",
    "dt = 0.001  # time-step size\n",
    "N = int(T / dt) + 1  # number of time steps\n",
    "u0 = np.array([a10,a20,pa10,pa20])\n",
    "\n",
    "\n",
    "#On def f comme la fonction f(u)=u'\n",
    "#u etant la liste nos variables\n",
    "#u' la liste des derivées (stockées dans results) \n",
    "\n",
    "def f(u):\n",
    "    a1=u[0]\n",
    "    a2=u[1]\n",
    "    pa1=u[2]\n",
    "    pa2=u[3]   \n",
    "    b1=6/(m*l**2)*(2*pa1-3*np.cos(a1-a2)*pa2)/(16-9*np.cos(a1-a2)**2)   #derivée de théta1\n",
    "    b2=6/(m*l**2)*(8*pa2-3*np.cos(a1-a2)*pa1)/(16-9*np.cos(a1-a2)**2)   #derivée de théta2\n",
    "    qa1 = -1/2*m*l**2*(b1*b2*np.sin(a1-a2)+3*g/l*np.sin(a1))            #dérivée de l'imp 1\n",
    "    qa2 = -1/2*m*l**2*(-b1*b2*np.sin(a1-a2)+g/l*np.sin(a2))             #dérivée de l'imp 2\n",
    "    result = np.array([b1,b2,qa1,qa2])                  #liste des derivées de nos variables\n",
    "    return result"
   ]
  },
  {
   "cell_type": "markdown",
   "metadata": {},
   "source": [
    "Ensuite, nous implémentons RK4 de la manière suivante, en itérant N fois l'algorithme. Nous préférons créer des tableaux de zéros plutot que d'utiliser \"append\" pour des raisons de rapidité d'éxécution."
   ]
  },
  {
   "cell_type": "code",
   "execution_count": 4,
   "metadata": {
    "collapsed": true
   },
   "outputs": [],
   "source": [
    "def RK4(f,u0,dt,T,t0):\n",
    "    N = int(T / dt) + 1 \n",
    "    \n",
    "    tv = np.zeros(N)      # liste de 0's pour stocker les valeurs des dt(intervalles de temps)\n",
    "    uv = np.zeros((N,4))    # matrice Nx4 de 0's pour stocker les solutions \n",
    "                          # en chaque ligne les differentes 4 variable pour un time-step \n",
    "                          # 4 variables (une par colonne) theta1, theta2, impul1, impul2\n",
    "            \n",
    "    tv[0]=t0              \n",
    "    uv[0]=u0\n",
    "    for i in range(1,N):\n",
    "        k1=dt*f(uv[i-1])\n",
    "        k2=dt*f(uv[i-1]+k1/2)\n",
    "        k3=dt*f(uv[i-1]+k2/2)\n",
    "        k4=dt*f(uv[i-1]+k3)\n",
    "        \n",
    "        #on crée liste us de 4élem avec les valeurs de uv qui change pour chaque dt (par R-K)\n",
    "        us = uv[i-1] + 1/6*(k1+2*k2+2*k3+k4) \n",
    "        \n",
    "        tv[i] = tv[i-1]+dt      #on stocke dans tv\n",
    "        uv[i] = us              #on rempli uv avec la liste us\n",
    "    return(tv,uv)"
   ]
  },
  {
   "cell_type": "markdown",
   "metadata": {},
   "source": [
    "Une fois avoir stocké toutes les valeurs approximées des positions pour $\\theta_1$ et $\\theta_2$, il nous suffit de transformé les coordonnées polaires en coordonnées cartésiennes, donnés par les calculs suivants :\n",
    "\\begin{align*}\n",
    "x_1&=l.sin(\\theta_1)\\\\\n",
    "y_1&=-l.cos(\\theta_2)\\\\\n",
    "x_2&=l.\\big(sin(\\theta_1)+sin(\\theta_2)\\big)\\\\\n",
    "y_2&=-l.\\big(cos(\\theta_1)+cos(\\theta_2)\\big)\\\\\n",
    "\\end{align*}\n",
    "\n",
    "Encore une fois, nous utilisons des tableaux de zéros et nous remplaçons les valeurs des positions dans la boucle \"for\".\n",
    "Nous pouvons désormais donner une valeur sur la position des extrémités des bras après $20 s$, pour cela nous demandons un \"print\" a la fin de la cellule ci-dessous sur la dernière position de chaque nouveaux tableaux $x_1,y_1,x_2,y_2$ ( qui correspondent à la position au cours du temps ), c-à-d. les N-ème éléments de chaque tableaux."
   ]
  },
  {
   "cell_type": "code",
   "execution_count": 5,
   "metadata": {},
   "outputs": [
    {
     "name": "stdout",
     "output_type": "stream",
     "text": [
      "Position de l'extrémité du premier bras : (x1,y1) = ( 0.6626895606587564 , -0.748894215623211 )\n",
      "Position de l'extrémité du deuxième bras : (x2,y2) = ( 0.06008961250572198 , 0.04914920580569859 )\n"
     ]
    }
   ],
   "source": [
    "\"Convertions en coordonées cartésiennes\"\n",
    "solutions = RK4(f,u0,0.001,20,0)\n",
    "#tvs = solutions[0]             \n",
    "uvs = solutions[1]\n",
    "\n",
    "x1 = np.zeros(N)      #nouvelles listes de 0's taille N\n",
    "y1 = np.zeros(N)\n",
    "x2 = np.zeros(N)\n",
    "y2 = np.zeros(N)\n",
    "\n",
    "for i in range(N):\n",
    "    x1[i] = l*np.sin(uvs[i][0])\n",
    "    y1[i] = -l*np.cos(uvs[i][0])\n",
    "    x2[i] = l*(np.sin(uvs[i][0]) + np.sin( uvs[i][1] ))\n",
    "    y2[i] = -l*(np.cos( uvs[i][0] ) + np.cos( uvs[i][1] ))\n",
    "print( \"Position de l'extrémité du premier bras : (x1,y1) = (\",x1[N-1],\",\", y1[N-1],\")\")\n",
    "print( \"Position de l'extrémité du deuxième bras : (x2,y2) = (\",x2[N-1],\",\", y2[N-1],\")\")"
   ]
  },
  {
   "cell_type": "markdown",
   "metadata": {},
   "source": [
    "## Ordre de Convergence\n",
    "Maintenant, nous allons discuter de l'ordre de convergence de notre méthode RK4. \n",
    "\n",
    "La fonction $L1_{norme}$ nous donne la norme de la différence entre 2 tableaux de valeurs par rapport a des time-steps $dt$ différent. On remarque que pour ces tableaux, comme les time-steps sont différent pour l'un et l'autre, leurs tailles ne sont pas équivalentes. Le code ci-dessous nous permet d'effectuer quand même des opérations car, par exemple, pour 2 tableaux de 10 et de 100 time-steps respectivement, il associe un élément du premier tableaux (n=10) 10 éléments du deuxième tableau (n=100).\n",
    "\n",
    "Le calcul du ratio nous donnera combien d'éléments de notre tableau u_raffine sera associé a un élément de notre tabeau u_courant."
   ]
  },
  {
   "cell_type": "code",
   "execution_count": 6,
   "metadata": {
    "collapsed": true
   },
   "outputs": [],
   "source": [
    "def l1_norme(u_courant, u_raffine, dt):\n",
    "    N_coarse = u_courant.shape[0]\n",
    "    N_fine = u_raffine.shape[0]\n",
    "    ratio = math.ceil(N_fine / N_coarse)\n",
    "    diff = dt * np.sum(np.abs(u_courant - u_raffine[::ratio]))\n",
    "    return diff"
   ]
  },
  {
   "cell_type": "markdown",
   "metadata": {},
   "source": [
    "Regardons maintenant pour des valeurs de dt que nous stockons dans dt_values. \n",
    "La première boucle \"for\" permet de stocker, dans une liste u_values, les positions, via la méthode de Runge-Kutta 4, pour différents time-steps. La deuxième emmagasine les valeurs de la norme de la différence entre 2 éléments de u_values. \n",
    "Une fois ces boucles terminées, nous plottons diff_values sur un graphique en fonction des time-steps. Nous pourrons alors observer le caractère convergent ou non de notre méthode. "
   ]
  },
  {
   "cell_type": "code",
   "execution_count": 7,
   "metadata": {},
   "outputs": [
    {
     "name": "stdout",
     "output_type": "stream",
     "text": [
      "[35.814261484183724, 12.421203705834023, 5.67442740252025, 0.06119552537160072, 0.0038618434916050325, 0.0]\n"
     ]
    },
    {
     "data": {
      "image/png": "[encoded data removed]",
      "text/plain": [
       "<Figure size 432x432 with 1 Axes>"
      ]
     },
     "metadata": {},
     "output_type": "display_data"
    }
   ],
   "source": [
    "dt_values = [0.1,0.01,0.005,0.001,0.0005,0.00025]\n",
    "u_values = [] \n",
    "diff_values = []\n",
    "\n",
    "for dt in dt_values:\n",
    "    sol = RK4(f,u0,dt,T,t0)[1]\n",
    "    u_values.append(sol) \n",
    "\n",
    "for y, dt in zip(u_values, dt_values):\n",
    "    diff = l1_norme(y[:, 2], u_values[-1][:, 2], dt)   \n",
    "    diff_values.append(diff)\n",
    "print(diff_values)\n",
    "\n",
    "# Plot difference versus the time-step size.\n",
    "pyplot.figure(figsize=(6.0, 6.0))\n",
    "pyplot.title('L1-norm of the difference vs. time-step size')\n",
    "pyplot.xlabel('$\\Delta t$')\n",
    "pyplot.ylabel('Difference')\n",
    "pyplot.grid()\n",
    "pyplot.loglog(dt_values[:-1], diff_values[:-1],\n",
    "              color='C1', linestyle='--', marker='.')\n",
    "pyplot.axis('equal');"
   ]
  },
  {
   "cell_type": "markdown",
   "metadata": {},
   "source": [
    "Nous remarquons une convergence se former au plus les time-steps deviennent petit, nous devrons alors faire un choix judicieux pour les time-steps. En vue du graphique, nous avons envie d'utiliser la différence entre les derniers time-step de notre liste de $dt_{values}$, c-à-d. les 2 derniers élémentes de $diff_{values}$. Ce sont ces 2 derniers éléments qui nous donnerons la meilleure approximation de l'ordre de convergence.\n",
    "\n",
    "De ce fait, nous avons les relations suivantes nous permettant d'avoir une valeur numérique sur l'ordre: \n",
    "\n",
    "$$p=\\frac{log\\big(\\frac{f_3-f_2}{f_2-f_1}\\big)}{log(r)}$$\n",
    "\n",
    "où $p$ est l'ordre de convergence, $r$ est le coéficient de proportionnalité entre 2 time-steps, et les $f_i-f_{i-1}$ sont en réalité les 2 derniers éléments de notre tableau $diff_{values}$.\n",
    "\n",
    "Nous pouvons alors implémenter ca en code et nous trouvons :"
   ]
  },
  {
   "cell_type": "code",
   "execution_count": 8,
   "metadata": {},
   "outputs": [
    {
     "name": "stdout",
     "output_type": "stream",
     "text": [
      "L ordre de convergence est p = 3.986\n"
     ]
    }
   ],
   "source": [
    "\"Ordre de convergence\"\n",
    "r=2\n",
    "f3_f2=diff_values[3]\n",
    "f2_f1=diff_values[4]\n",
    "# calcul de l'ordre de convergence\n",
    "p = math.log(f3_f2 / f2_f1) / math.log(r)\n",
    "\n",
    "print('L ordre de convergence est p = {:.3f}'.format(p));"
   ]
  },
  {
   "cell_type": "markdown",
   "metadata": {},
   "source": [
    "Nous remarquons que l'ordre de convergence est 4 avec une bonne approximation.\n",
    "\n",
    "Etudions maintenant le cas ou nous n'avons pas pris des time-steps appropriés. Prenons comme time-step initial $0.001$ et ensuite doublons 2 fois celui-ci et regardons l'ordre de convergence."
   ]
  },
  {
   "cell_type": "code",
   "execution_count": 9,
   "metadata": {},
   "outputs": [
    {
     "name": "stdout",
     "output_type": "stream",
     "text": [
      "L ordre de convergence est p = 3.024\n"
     ]
    }
   ],
   "source": [
    "\"Ordre de convergence\"\n",
    "\n",
    "s = 2  # time-step size refinement ratio\n",
    "h=0.001\n",
    "\n",
    "\n",
    "dt_values2 = [h,h*s,h*s**2]\n",
    "u_values2 =[]\n",
    "\n",
    "\n",
    "for ds in dt_values2:\n",
    "    sol2 = RK4(f,u0,ds,T,t0)[1]\n",
    "    u_values2.append(sol2)\n",
    "#calcul de g2 - g1\n",
    "g2_g1= l1_norme(u_values2[1], u_values2[0], dt_values2[1])\n",
    "\n",
    "#calcul de g3 - g2\n",
    "g3_g2 = l1_norme(u_values2[2], u_values2[1], dt_values2[2])\n",
    "G = math.log(g3_g2 / g2_g1) / math.log(s)\n",
    "\n",
    "print('L ordre de convergence est p = {:.3f}'.format(G));"
   ]
  },
  {
   "cell_type": "markdown",
   "metadata": {},
   "source": [
    "Ce résultat confirme bien que le choix des time-steps est important, comme nous le voyons sur le graphique proposé plus haut, il faut utiliser une précision assez importante pour pouvoir utiliser RK4 avec un ordre de convergence 4"
   ]
  },
  {
   "cell_type": "code",
   "execution_count": 11,
   "metadata": {},
   "outputs": [
    {
     "data": {
      "image/png": "[encoded data removed]",
      "text/plain": [
       "<Figure size 432x288 with 1 Axes>"
      ]
     },
     "metadata": {},
     "output_type": "display_data"
    },
    {
     "ename": "AttributeError",
     "evalue": "'list' object has no attribute 'set_data'",
     "output_type": "error",
     "traceback": [
      "\u001b[0;31m---------------------------------------------------------------------------\u001b[0m",
      "\u001b[0;31mAttributeError\u001b[0m                            Traceback (most recent call last)",
      "\u001b[0;32m<ipython-input-11-3cbd28c0e7ec>\u001b[0m in \u001b[0;36m<module>\u001b[0;34m()\u001b[0m\n\u001b[1;32m     29\u001b[0m \u001b[0;31m#ani.save('double_pendulum.mp4', fps=1000)\u001b[0m\u001b[0;34m\u001b[0m\u001b[0;34m\u001b[0m\u001b[0m\n\u001b[1;32m     30\u001b[0m \u001b[0mpyplot\u001b[0m\u001b[0;34m.\u001b[0m\u001b[0mshow\u001b[0m\u001b[0;34m(\u001b[0m\u001b[0;34m)\u001b[0m\u001b[0;34m\u001b[0m\u001b[0m\n\u001b[0;32m---> 31\u001b[0;31m \u001b[0mHTML\u001b[0m\u001b[0;34m(\u001b[0m\u001b[0mani\u001b[0m\u001b[0;34m.\u001b[0m\u001b[0mto_html5_video\u001b[0m\u001b[0;34m(\u001b[0m\u001b[0;34m)\u001b[0m\u001b[0;34m)\u001b[0m\u001b[0;34m\u001b[0m\u001b[0m\n\u001b[0m",
      "\u001b[0;32m~/anaconda3/lib/python3.6/site-packages/matplotlib/animation.py\u001b[0m in \u001b[0;36mto_html5_video\u001b[0;34m(self, embed_limit)\u001b[0m\n\u001b[1;32m   1351\u001b[0m                                 \u001b[0mbitrate\u001b[0m\u001b[0;34m=\u001b[0m\u001b[0mrcParams\u001b[0m\u001b[0;34m[\u001b[0m\u001b[0;34m'animation.bitrate'\u001b[0m\u001b[0;34m]\u001b[0m\u001b[0;34m,\u001b[0m\u001b[0;34m\u001b[0m\u001b[0m\n\u001b[1;32m   1352\u001b[0m                                 fps=1000. / self._interval)\n\u001b[0;32m-> 1353\u001b[0;31m                 \u001b[0mself\u001b[0m\u001b[0;34m.\u001b[0m\u001b[0msave\u001b[0m\u001b[0;34m(\u001b[0m\u001b[0mf\u001b[0m\u001b[0;34m.\u001b[0m\u001b[0mname\u001b[0m\u001b[0;34m,\u001b[0m \u001b[0mwriter\u001b[0m\u001b[0;34m=\u001b[0m\u001b[0mwriter\u001b[0m\u001b[0;34m)\u001b[0m\u001b[0;34m\u001b[0m\u001b[0m\n\u001b[0m\u001b[1;32m   1354\u001b[0m \u001b[0;34m\u001b[0m\u001b[0m\n\u001b[1;32m   1355\u001b[0m             \u001b[0;31m# Now open and base64 encode\u001b[0m\u001b[0;34m\u001b[0m\u001b[0;34m\u001b[0m\u001b[0m\n",
      "\u001b[0;32m~/anaconda3/lib/python3.6/site-packages/matplotlib/animation.py\u001b[0m in \u001b[0;36msave\u001b[0;34m(self, filename, writer, fps, dpi, codec, bitrate, extra_args, metadata, extra_anim, savefig_kwargs)\u001b[0m\n\u001b[1;32m   1197\u001b[0m                     \u001b[0;32mfor\u001b[0m \u001b[0manim\u001b[0m\u001b[0;34m,\u001b[0m \u001b[0md\u001b[0m \u001b[0;32min\u001b[0m \u001b[0mzip\u001b[0m\u001b[0;34m(\u001b[0m\u001b[0mall_anim\u001b[0m\u001b[0;34m,\u001b[0m \u001b[0mdata\u001b[0m\u001b[0;34m)\u001b[0m\u001b[0;34m:\u001b[0m\u001b[0;34m\u001b[0m\u001b[0m\n\u001b[1;32m   1198\u001b[0m                         \u001b[0;31m# TODO: See if turning off blit is really necessary\u001b[0m\u001b[0;34m\u001b[0m\u001b[0;34m\u001b[0m\u001b[0m\n\u001b[0;32m-> 1199\u001b[0;31m                         \u001b[0manim\u001b[0m\u001b[0;34m.\u001b[0m\u001b[0m_draw_next_frame\u001b[0m\u001b[0;34m(\u001b[0m\u001b[0md\u001b[0m\u001b[0;34m,\u001b[0m \u001b[0mblit\u001b[0m\u001b[0;34m=\u001b[0m\u001b[0;32mFalse\u001b[0m\u001b[0;34m)\u001b[0m\u001b[0;34m\u001b[0m\u001b[0m\n\u001b[0m\u001b[1;32m   1200\u001b[0m                     \u001b[0mwriter\u001b[0m\u001b[0;34m.\u001b[0m\u001b[0mgrab_frame\u001b[0m\u001b[0;34m(\u001b[0m\u001b[0;34m**\u001b[0m\u001b[0msavefig_kwargs\u001b[0m\u001b[0;34m)\u001b[0m\u001b[0;34m\u001b[0m\u001b[0m\n\u001b[1;32m   1201\u001b[0m \u001b[0;34m\u001b[0m\u001b[0m\n",
      "\u001b[0;32m~/anaconda3/lib/python3.6/site-packages/matplotlib/animation.py\u001b[0m in \u001b[0;36m_draw_next_frame\u001b[0;34m(self, framedata, blit)\u001b[0m\n\u001b[1;32m   1234\u001b[0m         \u001b[0;31m# post- draw, as well as the drawing of the frame itself.\u001b[0m\u001b[0;34m\u001b[0m\u001b[0;34m\u001b[0m\u001b[0m\n\u001b[1;32m   1235\u001b[0m         \u001b[0mself\u001b[0m\u001b[0;34m.\u001b[0m\u001b[0m_pre_draw\u001b[0m\u001b[0;34m(\u001b[0m\u001b[0mframedata\u001b[0m\u001b[0;34m,\u001b[0m \u001b[0mblit\u001b[0m\u001b[0;34m)\u001b[0m\u001b[0;34m\u001b[0m\u001b[0m\n\u001b[0;32m-> 1236\u001b[0;31m         \u001b[0mself\u001b[0m\u001b[0;34m.\u001b[0m\u001b[0m_draw_frame\u001b[0m\u001b[0;34m(\u001b[0m\u001b[0mframedata\u001b[0m\u001b[0;34m)\u001b[0m\u001b[0;34m\u001b[0m\u001b[0m\n\u001b[0m\u001b[1;32m   1237\u001b[0m         \u001b[0mself\u001b[0m\u001b[0;34m.\u001b[0m\u001b[0m_post_draw\u001b[0m\u001b[0;34m(\u001b[0m\u001b[0mframedata\u001b[0m\u001b[0;34m,\u001b[0m \u001b[0mblit\u001b[0m\u001b[0;34m)\u001b[0m\u001b[0;34m\u001b[0m\u001b[0m\n\u001b[1;32m   1238\u001b[0m \u001b[0;34m\u001b[0m\u001b[0m\n",
      "\u001b[0;32m~/anaconda3/lib/python3.6/site-packages/matplotlib/animation.py\u001b[0m in \u001b[0;36m_draw_frame\u001b[0;34m(self, framedata)\u001b[0m\n\u001b[1;32m   1770\u001b[0m         \u001b[0;31m# Call the func with framedata and args. If blitting is desired,\u001b[0m\u001b[0;34m\u001b[0m\u001b[0;34m\u001b[0m\u001b[0m\n\u001b[1;32m   1771\u001b[0m         \u001b[0;31m# func needs to return a sequence of any artists that were modified.\u001b[0m\u001b[0;34m\u001b[0m\u001b[0;34m\u001b[0m\u001b[0m\n\u001b[0;32m-> 1772\u001b[0;31m         \u001b[0mself\u001b[0m\u001b[0;34m.\u001b[0m\u001b[0m_drawn_artists\u001b[0m \u001b[0;34m=\u001b[0m \u001b[0mself\u001b[0m\u001b[0;34m.\u001b[0m\u001b[0m_func\u001b[0m\u001b[0;34m(\u001b[0m\u001b[0mframedata\u001b[0m\u001b[0;34m,\u001b[0m \u001b[0;34m*\u001b[0m\u001b[0mself\u001b[0m\u001b[0;34m.\u001b[0m\u001b[0m_args\u001b[0m\u001b[0;34m)\u001b[0m\u001b[0;34m\u001b[0m\u001b[0m\n\u001b[0m\u001b[1;32m   1773\u001b[0m         \u001b[0;32mif\u001b[0m \u001b[0mself\u001b[0m\u001b[0;34m.\u001b[0m\u001b[0m_blit\u001b[0m\u001b[0;34m:\u001b[0m\u001b[0;34m\u001b[0m\u001b[0m\n\u001b[1;32m   1774\u001b[0m             \u001b[0;32mif\u001b[0m \u001b[0mself\u001b[0m\u001b[0;34m.\u001b[0m\u001b[0m_drawn_artists\u001b[0m \u001b[0;32mis\u001b[0m \u001b[0;32mNone\u001b[0m\u001b[0;34m:\u001b[0m\u001b[0;34m\u001b[0m\u001b[0m\n",
      "\u001b[0;32m<ipython-input-11-3cbd28c0e7ec>\u001b[0m in \u001b[0;36manimate\u001b[0;34m(i)\u001b[0m\n\u001b[1;32m     20\u001b[0m \u001b[0;34m\u001b[0m\u001b[0m\n\u001b[1;32m     21\u001b[0m     \u001b[0mline\u001b[0m\u001b[0;34m.\u001b[0m\u001b[0mset_data\u001b[0m\u001b[0;34m(\u001b[0m\u001b[0mthisx\u001b[0m\u001b[0;34m,\u001b[0m \u001b[0mthisy\u001b[0m\u001b[0;34m)\u001b[0m\u001b[0;34m\u001b[0m\u001b[0m\n\u001b[0;32m---> 22\u001b[0;31m     \u001b[0mextr\u001b[0m\u001b[0;34m.\u001b[0m\u001b[0mset_data\u001b[0m\u001b[0;34m(\u001b[0m\u001b[0mx2\u001b[0m\u001b[0;34m[\u001b[0m\u001b[0mi\u001b[0m\u001b[0;34m]\u001b[0m\u001b[0;34m,\u001b[0m\u001b[0my2\u001b[0m\u001b[0;34m[\u001b[0m\u001b[0mi\u001b[0m\u001b[0;34m]\u001b[0m\u001b[0;34m)\u001b[0m\u001b[0;34m\u001b[0m\u001b[0m\n\u001b[0m\u001b[1;32m     23\u001b[0m     \u001b[0mtime_text\u001b[0m\u001b[0;34m.\u001b[0m\u001b[0mset_text\u001b[0m\u001b[0;34m(\u001b[0m\u001b[0mtime_template\u001b[0m \u001b[0;34m%\u001b[0m \u001b[0;34m(\u001b[0m\u001b[0mi\u001b[0m\u001b[0;34m*\u001b[0m\u001b[0mdt\u001b[0m\u001b[0;34m)\u001b[0m\u001b[0;34m)\u001b[0m\u001b[0;34m\u001b[0m\u001b[0m\n\u001b[1;32m     24\u001b[0m     \u001b[0;32mreturn\u001b[0m \u001b[0mline\u001b[0m\u001b[0;34m,\u001b[0m \u001b[0mtime_text\u001b[0m\u001b[0;34m,\u001b[0m\u001b[0mextr\u001b[0m\u001b[0;34m\u001b[0m\u001b[0m\n",
      "\u001b[0;31mAttributeError\u001b[0m: 'list' object has no attribute 'set_data'"
     ]
    }
   ],
   "source": [
    "# A FAIRE ABSOLUMENT\n",
    "dt=0.001\n",
    "fig = pyplot.figure()\n",
    "ax = fig.add_subplot(111, autoscale_on=False, xlim=(-2, 2), ylim=(-2, 2))\n",
    "\n",
    "line, = ax.plot([], [], '.-', lw=1.5,color='C1')\n",
    "time_template = 'time = %.1fs'\n",
    "time_text = ax.text(0.05, 0.9, '', transform=ax.transAxes)\n",
    "extr=ax.plot([],[],'red',lw=1)\n",
    "\n",
    "def init():\n",
    "    line.set_data([], [])\n",
    "    time_text.set_text('')\n",
    "    return line, time_text\n",
    "\n",
    "\n",
    "def animate(i):\n",
    "    thisx = [0, x1[i], x2[i]]\n",
    "    thisy = [0, y1[i], y2[i]]\n",
    "    \n",
    "    line.set_data(thisx, thisy)\n",
    "    extr.set_data(x2[i],y2[i])\n",
    "    time_text.set_text(time_template % (i*dt))\n",
    "    return line, time_text,extr\n",
    "\n",
    "ani = animation.FuncAnimation(fig, animate, np.arange(1,len(x1),55),\n",
    "                              interval=55, blit=True, init_func=init, repeat=True)\n",
    "\n",
    "#ani.save('double_pendulum.mp4', fps=1000)\n",
    "pyplot.show()\n",
    "HTML(ani.to_html5_video())"
   ]
  },
  {
   "cell_type": "code",
   "execution_count": 11,
   "metadata": {
    "collapsed": true
   },
   "outputs": [],
   "source": [
    "def make_plot(i):\n",
    "    # Plot and save an image of the double pendulum configuration for time\n",
    "    # point i.\n",
    "    # The pendulum rods.\n",
    "    ax.plot([0, x1[i], x2[i]], [0, y1[i], y2[i]], lw=2, c='k')\n",
    "    # Circles representing the anchor point of rod 1, and bobs 1 and 2.\n",
    "    c0 = Circle((0, 0), r/2, fc='k', zorder=10)\n",
    "    c1 = Circle((x1[i], y1[i]), r, fc='b', ec='b', zorder=10)\n",
    "    c2 = Circle((x2[i], y2[i]), r, fc='r', ec='r', zorder=10)\n",
    "    ax.add_patch(c0)\n",
    "    ax.add_patch(c1)\n",
    "    ax.add_patch(c2)\n",
    "\n",
    "    # The trail will be divided into ns segments and plotted as a fading line.\n",
    "    ns = 20\n",
    "    s = max_trail // ns\n",
    "\n",
    "    for j in range(ns):\n",
    "        imin = i - (ns-j)*s\n",
    "        if imin < 0:\n",
    "            continue\n",
    "        imax = imin + s + 1\n",
    "        # The fading looks better if we square the fractional length along the\n",
    "        # trail.\n",
    "        alpha = (j/ns)**2\n",
    "        ax.plot(x2[imin:imax], y2[imin:imax], c='r', solid_capstyle='butt',\n",
    "                lw=2, alpha=alpha)\n",
    "\n",
    "    # Centre the image on the fixed anchor point, and ensure the axes are equal\n",
    "    ax.set_xlim(-L1-L2-r, L1+L2+r)\n",
    "    ax.set_ylim(-L1-L2-r, L1+L2+r)\n",
    "    ax.set_aspect('equal', adjustable='box')\n",
    "    plt.axis('off')\n",
    "    plt.savefig('frames/_img{:04d}.png'.format(i//di), dpi=72)\n",
    "    plt.cla()"
   ]
  },
  {
   "cell_type": "code",
   "execution_count": 12,
   "metadata": {},
   "outputs": [
    {
     "name": "stdout",
     "output_type": "stream",
     "text": [
      "0 / 300\n"
     ]
    },
    {
     "ename": "FileNotFoundError",
     "evalue": "[Errno 2] No such file or directory: 'frames/_img0000.png'",
     "output_type": "error",
     "traceback": [
      "\u001b[0;31m---------------------------------------------------------------------------\u001b[0m",
      "\u001b[0;31mFileNotFoundError\u001b[0m                         Traceback (most recent call last)",
      "\u001b[0;32m<ipython-input-12-2ea67e5b1998>\u001b[0m in \u001b[0;36m<module>\u001b[0;34m()\u001b[0m\n\u001b[1;32m     31\u001b[0m \u001b[0;32mfor\u001b[0m \u001b[0mi\u001b[0m \u001b[0;32min\u001b[0m \u001b[0mrange\u001b[0m\u001b[0;34m(\u001b[0m\u001b[0;36m0\u001b[0m\u001b[0;34m,\u001b[0m \u001b[0mt\u001b[0m\u001b[0;34m.\u001b[0m\u001b[0msize\u001b[0m\u001b[0;34m,\u001b[0m \u001b[0mdi\u001b[0m\u001b[0;34m)\u001b[0m\u001b[0;34m:\u001b[0m\u001b[0;34m\u001b[0m\u001b[0m\n\u001b[1;32m     32\u001b[0m     \u001b[0mprint\u001b[0m\u001b[0;34m(\u001b[0m\u001b[0mi\u001b[0m \u001b[0;34m//\u001b[0m \u001b[0mdi\u001b[0m\u001b[0;34m,\u001b[0m \u001b[0;34m'/'\u001b[0m\u001b[0;34m,\u001b[0m \u001b[0mt\u001b[0m\u001b[0;34m.\u001b[0m\u001b[0msize\u001b[0m \u001b[0;34m//\u001b[0m \u001b[0mdi\u001b[0m\u001b[0;34m)\u001b[0m\u001b[0;34m\u001b[0m\u001b[0m\n\u001b[0;32m---> 33\u001b[0;31m     \u001b[0mmake_plot\u001b[0m\u001b[0;34m(\u001b[0m\u001b[0mi\u001b[0m\u001b[0;34m)\u001b[0m\u001b[0;34m\u001b[0m\u001b[0m\n\u001b[0m",
      "\u001b[0;32m<ipython-input-11-5032075810c6>\u001b[0m in \u001b[0;36mmake_plot\u001b[0;34m(i)\u001b[0m\n\u001b[1;32m     32\u001b[0m     \u001b[0max\u001b[0m\u001b[0;34m.\u001b[0m\u001b[0mset_aspect\u001b[0m\u001b[0;34m(\u001b[0m\u001b[0;34m'equal'\u001b[0m\u001b[0;34m,\u001b[0m \u001b[0madjustable\u001b[0m\u001b[0;34m=\u001b[0m\u001b[0;34m'box'\u001b[0m\u001b[0;34m)\u001b[0m\u001b[0;34m\u001b[0m\u001b[0m\n\u001b[1;32m     33\u001b[0m     \u001b[0mplt\u001b[0m\u001b[0;34m.\u001b[0m\u001b[0maxis\u001b[0m\u001b[0;34m(\u001b[0m\u001b[0;34m'off'\u001b[0m\u001b[0;34m)\u001b[0m\u001b[0;34m\u001b[0m\u001b[0m\n\u001b[0;32m---> 34\u001b[0;31m     \u001b[0mplt\u001b[0m\u001b[0;34m.\u001b[0m\u001b[0msavefig\u001b[0m\u001b[0;34m(\u001b[0m\u001b[0;34m'frames/_img{:04d}.png'\u001b[0m\u001b[0;34m.\u001b[0m\u001b[0mformat\u001b[0m\u001b[0;34m(\u001b[0m\u001b[0mi\u001b[0m\u001b[0;34m//\u001b[0m\u001b[0mdi\u001b[0m\u001b[0;34m)\u001b[0m\u001b[0;34m,\u001b[0m \u001b[0mdpi\u001b[0m\u001b[0;34m=\u001b[0m\u001b[0;36m72\u001b[0m\u001b[0;34m)\u001b[0m\u001b[0;34m\u001b[0m\u001b[0m\n\u001b[0m\u001b[1;32m     35\u001b[0m     \u001b[0mplt\u001b[0m\u001b[0;34m.\u001b[0m\u001b[0mcla\u001b[0m\u001b[0;34m(\u001b[0m\u001b[0;34m)\u001b[0m\u001b[0;34m\u001b[0m\u001b[0m\n",
      "\u001b[0;32m~/anaconda3/lib/python3.6/site-packages/matplotlib/pyplot.py\u001b[0m in \u001b[0;36msavefig\u001b[0;34m(*args, **kwargs)\u001b[0m\n\u001b[1;32m    693\u001b[0m \u001b[0;32mdef\u001b[0m \u001b[0msavefig\u001b[0m\u001b[0;34m(\u001b[0m\u001b[0;34m*\u001b[0m\u001b[0margs\u001b[0m\u001b[0;34m,\u001b[0m \u001b[0;34m**\u001b[0m\u001b[0mkwargs\u001b[0m\u001b[0;34m)\u001b[0m\u001b[0;34m:\u001b[0m\u001b[0;34m\u001b[0m\u001b[0m\n\u001b[1;32m    694\u001b[0m     \u001b[0mfig\u001b[0m \u001b[0;34m=\u001b[0m \u001b[0mgcf\u001b[0m\u001b[0;34m(\u001b[0m\u001b[0;34m)\u001b[0m\u001b[0;34m\u001b[0m\u001b[0m\n\u001b[0;32m--> 695\u001b[0;31m     \u001b[0mres\u001b[0m \u001b[0;34m=\u001b[0m \u001b[0mfig\u001b[0m\u001b[0;34m.\u001b[0m\u001b[0msavefig\u001b[0m\u001b[0;34m(\u001b[0m\u001b[0;34m*\u001b[0m\u001b[0margs\u001b[0m\u001b[0;34m,\u001b[0m \u001b[0;34m**\u001b[0m\u001b[0mkwargs\u001b[0m\u001b[0;34m)\u001b[0m\u001b[0;34m\u001b[0m\u001b[0m\n\u001b[0m\u001b[1;32m    696\u001b[0m     \u001b[0mfig\u001b[0m\u001b[0;34m.\u001b[0m\u001b[0mcanvas\u001b[0m\u001b[0;34m.\u001b[0m\u001b[0mdraw_idle\u001b[0m\u001b[0;34m(\u001b[0m\u001b[0;34m)\u001b[0m   \u001b[0;31m# need this if 'transparent=True' to reset colors\u001b[0m\u001b[0;34m\u001b[0m\u001b[0m\n\u001b[1;32m    697\u001b[0m     \u001b[0;32mreturn\u001b[0m \u001b[0mres\u001b[0m\u001b[0;34m\u001b[0m\u001b[0m\n",
      "\u001b[0;32m~/anaconda3/lib/python3.6/site-packages/matplotlib/figure.py\u001b[0m in \u001b[0;36msavefig\u001b[0;34m(self, fname, **kwargs)\u001b[0m\n\u001b[1;32m   2060\u001b[0m             \u001b[0mself\u001b[0m\u001b[0;34m.\u001b[0m\u001b[0mset_frameon\u001b[0m\u001b[0;34m(\u001b[0m\u001b[0mframeon\u001b[0m\u001b[0;34m)\u001b[0m\u001b[0;34m\u001b[0m\u001b[0m\n\u001b[1;32m   2061\u001b[0m \u001b[0;34m\u001b[0m\u001b[0m\n\u001b[0;32m-> 2062\u001b[0;31m         \u001b[0mself\u001b[0m\u001b[0;34m.\u001b[0m\u001b[0mcanvas\u001b[0m\u001b[0;34m.\u001b[0m\u001b[0mprint_figure\u001b[0m\u001b[0;34m(\u001b[0m\u001b[0mfname\u001b[0m\u001b[0;34m,\u001b[0m \u001b[0;34m**\u001b[0m\u001b[0mkwargs\u001b[0m\u001b[0;34m)\u001b[0m\u001b[0;34m\u001b[0m\u001b[0m\n\u001b[0m\u001b[1;32m   2063\u001b[0m \u001b[0;34m\u001b[0m\u001b[0m\n\u001b[1;32m   2064\u001b[0m         \u001b[0;32mif\u001b[0m \u001b[0mframeon\u001b[0m\u001b[0;34m:\u001b[0m\u001b[0;34m\u001b[0m\u001b[0m\n",
      "\u001b[0;32m~/anaconda3/lib/python3.6/site-packages/matplotlib/backend_bases.py\u001b[0m in \u001b[0;36mprint_figure\u001b[0;34m(self, filename, dpi, facecolor, edgecolor, orientation, format, **kwargs)\u001b[0m\n\u001b[1;32m   2261\u001b[0m                 \u001b[0morientation\u001b[0m\u001b[0;34m=\u001b[0m\u001b[0morientation\u001b[0m\u001b[0;34m,\u001b[0m\u001b[0;34m\u001b[0m\u001b[0m\n\u001b[1;32m   2262\u001b[0m                 \u001b[0mbbox_inches_restore\u001b[0m\u001b[0;34m=\u001b[0m\u001b[0m_bbox_inches_restore\u001b[0m\u001b[0;34m,\u001b[0m\u001b[0;34m\u001b[0m\u001b[0m\n\u001b[0;32m-> 2263\u001b[0;31m                 **kwargs)\n\u001b[0m\u001b[1;32m   2264\u001b[0m         \u001b[0;32mfinally\u001b[0m\u001b[0;34m:\u001b[0m\u001b[0;34m\u001b[0m\u001b[0m\n\u001b[1;32m   2265\u001b[0m             \u001b[0;32mif\u001b[0m \u001b[0mbbox_inches\u001b[0m \u001b[0;32mand\u001b[0m \u001b[0mrestore_bbox\u001b[0m\u001b[0;34m:\u001b[0m\u001b[0;34m\u001b[0m\u001b[0m\n",
      "\u001b[0;32m~/anaconda3/lib/python3.6/site-packages/matplotlib/backends/backend_agg.py\u001b[0m in \u001b[0;36mprint_png\u001b[0;34m(self, filename_or_obj, *args, **kwargs)\u001b[0m\n\u001b[1;32m    528\u001b[0m \u001b[0;34m\u001b[0m\u001b[0m\n\u001b[1;32m    529\u001b[0m         \u001b[0;32mtry\u001b[0m\u001b[0;34m:\u001b[0m\u001b[0;34m\u001b[0m\u001b[0m\n\u001b[0;32m--> 530\u001b[0;31m             \u001b[0;32mwith\u001b[0m \u001b[0mcbook\u001b[0m\u001b[0;34m.\u001b[0m\u001b[0mopen_file_cm\u001b[0m\u001b[0;34m(\u001b[0m\u001b[0mfilename_or_obj\u001b[0m\u001b[0;34m,\u001b[0m \u001b[0;34m\"wb\"\u001b[0m\u001b[0;34m)\u001b[0m \u001b[0;32mas\u001b[0m \u001b[0mfh\u001b[0m\u001b[0;34m:\u001b[0m\u001b[0;34m\u001b[0m\u001b[0m\n\u001b[0m\u001b[1;32m    531\u001b[0m                 _png.write_png(renderer._renderer, fh,\n\u001b[1;32m    532\u001b[0m                                self.figure.dpi, metadata=metadata)\n",
      "\u001b[0;32m~/anaconda3/lib/python3.6/contextlib.py\u001b[0m in \u001b[0;36m__enter__\u001b[0;34m(self)\u001b[0m\n\u001b[1;32m     79\u001b[0m     \u001b[0;32mdef\u001b[0m \u001b[0m__enter__\u001b[0m\u001b[0;34m(\u001b[0m\u001b[0mself\u001b[0m\u001b[0;34m)\u001b[0m\u001b[0;34m:\u001b[0m\u001b[0;34m\u001b[0m\u001b[0m\n\u001b[1;32m     80\u001b[0m         \u001b[0;32mtry\u001b[0m\u001b[0;34m:\u001b[0m\u001b[0;34m\u001b[0m\u001b[0m\n\u001b[0;32m---> 81\u001b[0;31m             \u001b[0;32mreturn\u001b[0m \u001b[0mnext\u001b[0m\u001b[0;34m(\u001b[0m\u001b[0mself\u001b[0m\u001b[0;34m.\u001b[0m\u001b[0mgen\u001b[0m\u001b[0;34m)\u001b[0m\u001b[0;34m\u001b[0m\u001b[0m\n\u001b[0m\u001b[1;32m     82\u001b[0m         \u001b[0;32mexcept\u001b[0m \u001b[0mStopIteration\u001b[0m\u001b[0;34m:\u001b[0m\u001b[0;34m\u001b[0m\u001b[0m\n\u001b[1;32m     83\u001b[0m             \u001b[0;32mraise\u001b[0m \u001b[0mRuntimeError\u001b[0m\u001b[0;34m(\u001b[0m\u001b[0;34m\"generator didn't yield\"\u001b[0m\u001b[0;34m)\u001b[0m \u001b[0;32mfrom\u001b[0m \u001b[0;32mNone\u001b[0m\u001b[0;34m\u001b[0m\u001b[0m\n",
      "\u001b[0;32m~/anaconda3/lib/python3.6/site-packages/matplotlib/cbook/__init__.py\u001b[0m in \u001b[0;36mopen_file_cm\u001b[0;34m(path_or_file, mode, encoding)\u001b[0m\n\u001b[1;32m    624\u001b[0m \u001b[0;32mdef\u001b[0m \u001b[0mopen_file_cm\u001b[0m\u001b[0;34m(\u001b[0m\u001b[0mpath_or_file\u001b[0m\u001b[0;34m,\u001b[0m \u001b[0mmode\u001b[0m\u001b[0;34m=\u001b[0m\u001b[0;34m\"r\"\u001b[0m\u001b[0;34m,\u001b[0m \u001b[0mencoding\u001b[0m\u001b[0;34m=\u001b[0m\u001b[0;32mNone\u001b[0m\u001b[0;34m)\u001b[0m\u001b[0;34m:\u001b[0m\u001b[0;34m\u001b[0m\u001b[0m\n\u001b[1;32m    625\u001b[0m     \u001b[0;34mr\"\"\"Pass through file objects and context-manage `.PathLike`\\s.\"\"\"\u001b[0m\u001b[0;34m\u001b[0m\u001b[0m\n\u001b[0;32m--> 626\u001b[0;31m     \u001b[0mfh\u001b[0m\u001b[0;34m,\u001b[0m \u001b[0mopened\u001b[0m \u001b[0;34m=\u001b[0m \u001b[0mto_filehandle\u001b[0m\u001b[0;34m(\u001b[0m\u001b[0mpath_or_file\u001b[0m\u001b[0;34m,\u001b[0m \u001b[0mmode\u001b[0m\u001b[0;34m,\u001b[0m \u001b[0;32mTrue\u001b[0m\u001b[0;34m,\u001b[0m \u001b[0mencoding\u001b[0m\u001b[0;34m)\u001b[0m\u001b[0;34m\u001b[0m\u001b[0m\n\u001b[0m\u001b[1;32m    627\u001b[0m     \u001b[0;32mif\u001b[0m \u001b[0mopened\u001b[0m\u001b[0;34m:\u001b[0m\u001b[0;34m\u001b[0m\u001b[0m\n\u001b[1;32m    628\u001b[0m         \u001b[0;32mwith\u001b[0m \u001b[0mfh\u001b[0m\u001b[0;34m:\u001b[0m\u001b[0;34m\u001b[0m\u001b[0m\n",
      "\u001b[0;32m~/anaconda3/lib/python3.6/site-packages/matplotlib/cbook/__init__.py\u001b[0m in \u001b[0;36mto_filehandle\u001b[0;34m(fname, flag, return_opened, encoding)\u001b[0m\n\u001b[1;32m    609\u001b[0m             \u001b[0mfh\u001b[0m \u001b[0;34m=\u001b[0m \u001b[0mbz2\u001b[0m\u001b[0;34m.\u001b[0m\u001b[0mBZ2File\u001b[0m\u001b[0;34m(\u001b[0m\u001b[0mfname\u001b[0m\u001b[0;34m,\u001b[0m \u001b[0mflag\u001b[0m\u001b[0;34m)\u001b[0m\u001b[0;34m\u001b[0m\u001b[0m\n\u001b[1;32m    610\u001b[0m         \u001b[0;32melse\u001b[0m\u001b[0;34m:\u001b[0m\u001b[0;34m\u001b[0m\u001b[0m\n\u001b[0;32m--> 611\u001b[0;31m             \u001b[0mfh\u001b[0m \u001b[0;34m=\u001b[0m \u001b[0mio\u001b[0m\u001b[0;34m.\u001b[0m\u001b[0mopen\u001b[0m\u001b[0;34m(\u001b[0m\u001b[0mfname\u001b[0m\u001b[0;34m,\u001b[0m \u001b[0mflag\u001b[0m\u001b[0;34m,\u001b[0m \u001b[0mencoding\u001b[0m\u001b[0;34m=\u001b[0m\u001b[0mencoding\u001b[0m\u001b[0;34m)\u001b[0m\u001b[0;34m\u001b[0m\u001b[0m\n\u001b[0m\u001b[1;32m    612\u001b[0m         \u001b[0mopened\u001b[0m \u001b[0;34m=\u001b[0m \u001b[0;32mTrue\u001b[0m\u001b[0;34m\u001b[0m\u001b[0m\n\u001b[1;32m    613\u001b[0m     \u001b[0;32melif\u001b[0m \u001b[0mhasattr\u001b[0m\u001b[0;34m(\u001b[0m\u001b[0mfname\u001b[0m\u001b[0;34m,\u001b[0m \u001b[0;34m'seek'\u001b[0m\u001b[0;34m)\u001b[0m\u001b[0;34m:\u001b[0m\u001b[0;34m\u001b[0m\u001b[0m\n",
      "\u001b[0;31mFileNotFoundError\u001b[0m: [Errno 2] No such file or directory: 'frames/_img0000.png'"
     ]
    },
    {
     "data": {
      "image/png": "[encoded data removed]",
      "text/plain": [
       "<Figure size 599.998x450 with 1 Axes>"
      ]
     },
     "metadata": {},
     "output_type": "display_data"
    }
   ],
   "source": [
    "import sys\n",
    "import numpy as np\n",
    "from scipy.integrate import odeint\n",
    "import matplotlib.pyplot as plt\n",
    "from matplotlib.patches import Circle\n",
    "\n",
    "# Pendulum rod lengths (m), bob masses (kg).\n",
    "L1, L2 = 1, 1\n",
    "m1, m2 = 1, 1\n",
    "\n",
    "# Maximum time, time point spacings and the time grid (all in s).\n",
    "tmax, dt = 30, 0.01\n",
    "t = np.arange(0, tmax+dt, dt)\n",
    "\n",
    "\n",
    "# Plotted bob circle radius\n",
    "r = 0.05\n",
    "# Plot a trail of the m2 bob's position for the last trail_secs seconds.\n",
    "trail_secs = 1\n",
    "# This corresponds to max_trail time points.\n",
    "max_trail = int(trail_secs / dt)\n",
    "\n",
    "# Make an image every di time points, corresponding to a frame rate of fps\n",
    "# frames per second.\n",
    "# Frame rate, s-1\n",
    "fps = 10\n",
    "di = int(1/fps/dt)\n",
    "fig = plt.figure(figsize=(8.3333, 6.25), dpi=72)\n",
    "ax = fig.add_subplot(111)\n",
    "\n",
    "for i in range(0, t.size, di):\n",
    "    print(i // di, '/', t.size // di)\n",
    "    make_plot(i)"
   ]
  },
  {
   "cell_type": "code",
   "execution_count": null,
   "metadata": {
    "collapsed": true
   },
   "outputs": [],
   "source": []
  }
 ],
 "metadata": {
  "kernelspec": {
   "display_name": "Python 3",
   "language": "python",
   "name": "python3"
  },
  "language_info": {
   "codemirror_mode": {
    "name": "ipython",
    "version": 3
   },
   "file_extension": ".py",
   "mimetype": "text/x-python",
   "name": "python",
   "nbconvert_exporter": "python",
   "pygments_lexer": "ipython3",
   "version": "3.6.3"
  }
 },
 "nbformat": 4,
 "nbformat_minor": 2
}
