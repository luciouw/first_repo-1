{
 "cells": [
  {
   "cell_type": "markdown",
   "metadata": {},
   "source": [
    "# Travail personnel 1 : Pendule double et Runge Kutta\n",
    "## Safae Ben Ayad & Maxime Langlet\n",
    "### 13 Novembre 2018\n"
   ]
  },
  {
   "cell_type": "markdown",
   "metadata": {},
   "source": [
    "## Introduction\n",
    "\n",
    "Dans ce travail, nous nous intéressons au problème du pendule double.\n",
    "Il s'agit d'un premier pendule à l'extrémité duquel on accroche un deuxième pendule. Chacun des deux pendules est constitué lui-même d'un barreau de longueur $l$ et de masse $m$, le tout constitue donc le pendule double. \n",
    "\n",
    "On cherche à résoudre les équations du mouvement du pendule double, pour ce faire nous allons tout d'abord décrire ce système grâce au formalisme lagrangien et résoudre celui-ci à l'aide de la méthode numérique RK4 ( Runge-Kutta d'ordre 4). Ensuite, nous discuterons de l'ordre de convergence de cette méthode, et pour finir, nous allons illustrer le système considéré à l'aide d'une animation.\n",
    "\n",
    "## Formalisme Lagrangien\n",
    "\n",
    "Nous allons prendre nos axes de la manière suivante; $y$ est l'axe horizontal avec les coordonnées positives à droite de l'origine et $x$ l'axe vertical avec les coordonées positives vers le haut. Les angles $\\theta_1$ et $\\theta_2$ sont les angles du premier et deuxième pendule respectivement. Ceux-ci sont les angles par rapport à l'axe vertical dans le sens trigonométrique.\n",
    "\n",
    "Par définition du Langrangien, $L$ vaut: $$L = K - V $$ \n",
    "\n",
    "où $K = \\frac{1}{2}(m v_1^2 + mv_2^2) + \\frac{1}{2}I(\\dot\\theta_1+\\dot\\theta_2)$ l'énergie cinétique du pendule\n",
    "et $V = mg(y_1 + y_2)$ l'énergie potentiel du pendule. \n"
   ]
  },
  {
   "cell_type": "markdown",
   "metadata": {},
   "source": [
    "En coordonnées polaires, nos paramètres sont: \n",
    "\n",
    "\\begin{align}\n",
    "x_1 &=\\frac{l}{2}sin(\\theta_1) \\\\\n",
    "y_1 &=-\\frac{l}{2}cos(\\theta_1) \\\\\n",
    "x_2 &=l(sin(\\theta_1)+\\frac{1}{2}sin(\\theta_2)) \\\\\n",
    "y_2 &=-l(cos(\\theta_1)+\\frac{1}{2}cos(\\theta_2)) \\\\\n",
    "\\end{align}\n",
    "\n",
    "Pour écrire le Langrangien en coordonnées polaire, on calcule les dérivées: $\\dot x_1$, $\\dot x_2$, $\\dot y_1$ et $\\dot y_2$ à fin d'écrire la vitesse en coordonnées polaires sachant que la norme de la vitesse 1 et la vitesse 2 est:\n",
    "\n",
    "\\begin{align}\n",
    "v_1^2 &= \\dot x_1^2 + \\dot y_1^2 \\\\\n",
    "v_2^2 &= \\dot x_2^2 + \\dot y_2^2 \\\\ \n",
    "\\end{align}\n",
    "\n",
    "Ecrivons les dérivées:\n",
    "\n",
    "\\begin{align}\n",
    " \\dot x_1 &= \\frac{l}{2} cos(\\theta_1) \\dot\\theta_1 \\\\\n",
    " \\dot y_1 &= \\frac{l}{2} sin(\\theta_1) \\dot\\theta_1 \\\\\n",
    " \\dot x_2 &= lcos(\\theta_1) \\dot\\theta_1 + \\frac{l}{2} cos(\\theta_2) \\dot\\theta_2 \\\\ \n",
    " \\dot y_2 &= lsin(\\theta_1) \\dot\\theta_1 + \\frac{l}{2} sin(\\theta_2) \\dot\\theta_2  \\\\\n",
    "\\end{align}\n",
    "\n",
    "Donc en remplaçant dans les expressions de $v_1^2$ et $v_2^2$:\n",
    "\n",
    "\n",
    "\\begin{align}\n",
    " v_1^2 &= (\\frac{l}{2}cos(\\theta_1)\\dot\\theta_1)^2 + (\\frac{l}{2}sin(\\theta_1)\\dot\\theta_1)^2 \n",
    " = \\frac{l^2}{4}\\dot\\theta_1^2 \\\\\n",
    " v_2^2 &= l^2 ( cos(\\theta_1)^2 \\dot\\theta_1^2 + \\frac{1}{4}cos(\\theta_2)^2\\dot\\theta_2^2+ cos (\\theta_1) cos(\\theta_2)\\dot\\theta_1 \\dot\\theta_2 + sin(\\theta_1)^2 \\dot\\theta_1^2 + \\frac{1}{4} sin(\\theta_2)^2 \\dot\\theta_2^2 + sin(\\theta_1) sin(\\theta_2)\\dot\\theta_1 \\dot\\theta_2) \\\\\n",
    " &=  l^2 (\\dot\\theta_1^2 + \\frac{1}{4}\\dot\\theta_2^2 + \\dot\\theta_1 \\dot\\theta_2 ( cos (\\theta_1) cos(\\theta_2) + sin(\\theta_1) sin(\\theta_2)))\\\\\n",
    " &= l^2 (\\dot\\theta_1^2 + \\frac{1}{4}\\dot\\theta_2^2 + \\dot\\theta_1 \\dot\\theta_2 cos (\\theta_1 -\\theta_2) )\n",
    "\\end{align}\n",
    "\n",
    "Remplaçons dans l'expression de l'énergie cinétique ainsi que dans celle de l'energie potentiel:\n",
    "\n",
    "\\begin{align}\n",
    " V &= mg(y_1 + y_2) = -mgl(\\frac{3}{2} cos(\\theta_1) +  \\frac{1}{2} cos(\\theta_2) \\\\\n",
    " &= -\\frac{mgl}{2}(3cos(\\theta_1) +  cos(\\theta_2) \\\\\n",
    " K &= \\frac{1}{2}(m v_1^2 + mv_2^2) + \\frac{1}{2}I(\\dot\\theta_1+\\dot\\theta_2) \\\\\n",
    " &= \\frac{1}{2}m l^2 (\\frac{1}{4}\\dot\\theta_1^2 + \\dot\\theta_1^2 + \\frac{1}{4}\\dot\\theta_2^2 + \\dot\\theta_1 \\dot\\theta_2 cos (\\theta_1 -\\theta_2) + \\dot\\theta_1+\\dot\\theta_2) \\\\\n",
    " &= ... \\\\\n",
    " &= \\frac{ml^2}{6}\\big(\\dot\\theta_2^2+4\\dot\\theta_1^2+3\\dot\\theta_1\\dot\\theta_2cos(\\theta_1-\\theta_2)\\big)\n",
    "\\end{align}\n",
    "\n",
    "\n",
    "Ceci nous donne une expression pour le Lagragien en coordonnées polaires :\n",
    "\n",
    "$$L=\\frac{ml^2}{6}\\big(\\dot\\theta_2^2+4\\dot\\theta_1^2+3\\dot\\theta_1\\dot\\theta_2cos(\\theta_1-\\theta_2)\\big)+\\frac{mgl}{2}\\big(3cos(\\theta_1)+cos(\\theta_2)\\big)$$\n",
    "\n",
    "Les équations d'Euler-Lagrange sont données par $$\\frac{\\partial L}{\\partial \\theta_{1/2}}-\\frac{d}{dt}\\big(\\frac{\\partial L}{\\partial \\theta_{1/2}}\\big)=0$$\n",
    "\n",
    "($\\theta_{1/2}$ dénnote simplement l'équation différentielle par rapport à $\\theta_1$ ou $\\theta_2$)"
   ]
  },
  {
   "cell_type": "markdown",
   "metadata": {},
   "source": [
    "À partit des équations d'Euler-Lagrange nous pouvons déduire les équations du mouvement, on trouve alors pour les quantités de mouvements :\n",
    "\n",
    "$$p_{\\theta_1}=\\frac{\\partial L}{\\partial \\dot\\theta_1}=\\frac{ml^2}{6}\\big(8\\dot\\theta_1+3\\dot\\theta_2 cos(\\theta_1-\\theta_2)\\big)$$\n",
    "\n",
    "$$p_{\\theta_2}=\\frac{\\partial L}{\\partial \\dot\\theta_2}=\\frac{ml^2}{6}\\big(2\\dot\\theta_2+3\\dot\\theta_1 cos(\\theta_1-\\theta_2)\\big)$$\n",
    "\n",
    "En isolant les vitesses angulaires, nous trouvons :\n",
    "\n",
    "$$\\dot\\theta_1=\\frac{6}{ml^2}\\frac{2 p_{\\theta_1}-3cos(\\theta_1-\\theta_2)p_{\\theta_2}}{16-9cos^2(\\theta_1-\\theta_2)}$$\n",
    "\n",
    "$$\\dot\\theta_2=\\frac{6}{ml^2}\\frac{8 p_{\\theta_2}-3cos(\\theta_1-\\theta_2)p_{\\theta_1}}{16-9cos^2(\\theta_1-\\theta_2)}$$\n",
    "\n",
    "Le restant des équations du mouvement sont : \n",
    "\n",
    "$$\\dot{p_{\\theta_1}}= -\\frac{ml^2}{2}\\big(\\dot\\theta_1\\dot\\theta_2sin(\\theta_1-\\theta_2)+3\\frac{g}{l}sin(\\theta_1)\\big)$$\n",
    "\n",
    "$$\\dot{p_{\\theta_2}}= -\\frac{ml^2}{2}\\big(-\\dot\\theta_1\\dot\\theta_2sin(\\theta_1-\\theta_2)+\\frac{g}{l}sin(\\theta_2)\\big)$$"
   ]
  },
  {
   "cell_type": "markdown",
   "metadata": {},
   "source": [
    "# La méthode Runge-Kunta\n",
    "## Introduction à la méthode\n",
    "\n",
    "Soit une équation différentielle du premier degré avec ses conditions initiales,\n",
    "\n",
    "$$\\dot y = f(t,y)$$\n",
    "$$y(t_0)=y_0$$\n",
    "\n",
    "où $y$ est une fonction vectorielle inconnue, dépendant du temps, que nous aimerions approximer. La fonction $f$ et les valeurs initiales nous sont données.\n",
    "\n",
    "Dans notre système du double pendule, nous aurons comme conditions initiales les valeurs suivantes : \n",
    "$$\\theta_1=\\theta_2=\\frac{\\pi}{2} , \\\\\n",
    "p_{\\theta_1}=p_{\\theta_2}=0 $$\n",
    "(car $\\dot\\theta_1=\\dot\\theta_2=0$)\n",
    "\n",
    "Dans notre système, la fonction $y$ est donnée par l'expression suivante : $$y=(\\theta_1,\\theta_2,p_{\\theta_1},p_{\\theta_2})$$\n",
    "\n",
    "Comme nous avons les expressions des dérivées de chacun de ces termes, a fonction f est alors :\n",
    "$$f=...$$\n",
    "\n",
    "#mettre en colonne+mettre f\n"
   ]
  },
  {
   "cell_type": "markdown",
   "metadata": {},
   "source": [
    "La méthode RK4 nous donnera une suite de $t_n$, dependant d'un time step $dt$ : \n",
    "$$t_n=t_{n-1}+dt$$\n",
    "\n",
    "Pour chaque $t_n$, une valeur $y_n$ sera associée en itérant l'opération suivante :\n",
    "$$y_n=y_{n-1}+\\frac{1}{6}(k_1+2k_2+2k_3+k_4)$$\n",
    "\n",
    "où, \n",
    "\\begin{align}\n",
    "k_1&=dt.f(y_{n-1})\\\\\n",
    "k_2&=dt.f(y_{n-1}+\\frac{k_1}{2})\\\\\n",
    "k_3&=dt.f(y_{n-1}+\\frac{k_2}{2})\\\\\n",
    "k_4&=dt.f(y_{n-1}+k_3)\\\\\n",
    "\\end{align}\n",
    "\n",
    "Nous avons adapté la méthode RK4 à notre système, ici $f$ ne dépend pas de $t$. Originellement, la fonction $f$ peut dépendre de $t$, ceci apportera certaines modifications à l'algorithmie de la méthode. \n",
    "\n",
    "La méthode RK4 estime la valeur de $y(t_{n})$, et la valeur $y_{n}$ est déterminée en fonction de $y_{n-1}$ plus la moyenne pondérée des 4 $k_i$ incréments. "
   ]
  },
  {
   "cell_type": "markdown",
   "metadata": {},
   "source": [
    "## Application de la méthode\n",
    "\n",
    "Commençons par importer les bibliothèque de language."
   ]
  },
  {
   "cell_type": "code",
   "execution_count": 94,
   "metadata": {},
   "outputs": [],
   "source": [
    "import numpy as np\n",
    "import math\n",
    "from matplotlib import pyplot\n",
    "%matplotlib inline\n",
    "from matplotlib import animation\n",
    "from IPython.display import HTML"
   ]
  },
  {
   "cell_type": "markdown",
   "metadata": {},
   "source": [
    "Dans la cellule suivante, nous définissons les valeurs initiales, ainsi que notre fonction $f$ de notre équation différentielle. Nous travaillons avec des tableaux \"numpy\" car ceux-ci nous permettent d'éffectuer des opérations entre tableaux, ce qui sera essentiel pour la suite lorsque nous appliquerons RK4 sur nos listes.\n",
    "\n",
    "On remarque bien encore une fois que $f$ ne dépend pas du temps. Par la même occasion, dans la définition de la fonction $f$, nous donnons les variables à $u$."
   ]
  },
  {
   "cell_type": "code",
   "execution_count": 95,
   "metadata": {},
   "outputs": [],
   "source": [
    "#Données/Conditions initiales\n",
    "l=1     #longueur\n",
    "m=1     #masse\n",
    "g=9.81\n",
    "a10=math.pi/2   #theta1 val initiale\n",
    "a20=math.pi/2   #theta2 val initiale\n",
    "pa10=0          #impulsion1 val initiale\n",
    "pa20=0          #impulsion2 val initiale\n",
    "t0=0\n",
    "T = 20.0  # length of the time interval\n",
    "dt = 0.001  # time-step size\n",
    "N = int(T / dt) + 1  # number of time steps\n",
    "u0 = np.array([a10,a20,pa10,pa20])\n",
    "\n",
    "\n",
    "#On def f comme la fonction f(u)=u'\n",
    "#u etant la liste nos variables\n",
    "#u' la liste des derivées (stockées dans results) \n",
    "\n",
    "def f(u):\n",
    "    a1=u[0]\n",
    "    a2=u[1]\n",
    "    pa1=u[2]\n",
    "    pa2=u[3]   \n",
    "    b1=6/(m*l**2)*(2*pa1-3*np.cos(a1-a2)*pa2)/(16-9*np.cos(a1-a2)**2)   #derivée de théta1\n",
    "    b2=6/(m*l**2)*(8*pa2-3*np.cos(a1-a2)*pa1)/(16-9*np.cos(a1-a2)**2)   #derivée de théta2\n",
    "    qa1 = -1/2*m*l**2*(b1*b2*np.sin(a1-a2)+3*g/l*np.sin(a1))            #dérivée de l'imp 1\n",
    "    qa2 = -1/2*m*l**2*(-b1*b2*np.sin(a1-a2)+g/l*np.sin(a2))             #dérivée de l'imp 2\n",
    "    result = np.array([b1,b2,qa1,qa2])                  #liste des derivées de nos variables\n",
    "    return result"
   ]
  },
  {
   "cell_type": "markdown",
   "metadata": {},
   "source": [
    "Ensuite, nous implémentons RK4 de la manière suivante, en itérant N fois l'algorithme. Nous préférons créer des tableaux de zéros plutot que d'utiliser \"append\" pour des raisons de rapidité d'éxécution."
   ]
  },
  {
   "cell_type": "code",
   "execution_count": 96,
   "metadata": {},
   "outputs": [],
   "source": [
    "def RK4(f,u0,dt,T,t0):\n",
    "    N = int(T / dt) + 1 \n",
    "    \n",
    "    tv = np.zeros(N)      # liste de 0's pour stocker les valeurs des dt(intervalles de temps)\n",
    "    uv = np.zeros((N,4))    # matrice Nx4 de 0's pour stocker les solutions \n",
    "                          # en chaque ligne les differentes 4 variable pour un time-step \n",
    "                          # 4 variables (une par colonne) theta1, theta2, impul1, impul2\n",
    "            \n",
    "    tv[0]=t0              \n",
    "    uv[0]=u0\n",
    "    for i in range(1,N):\n",
    "        k1=dt*f(uv[i-1])\n",
    "        k2=dt*f(uv[i-1]+k1/2)\n",
    "        k3=dt*f(uv[i-1]+k2/2)\n",
    "        k4=dt*f(uv[i-1]+k3)\n",
    "        \n",
    "        #on crée liste us de 4élem avec les valeurs de uv qui change pour chaque dt (par R-K)\n",
    "        us = uv[i-1] + 1/6*(k1+2*k2+2*k3+k4) \n",
    "        \n",
    "        tv[i] = tv[i-1]+dt      #on stocke dans tv\n",
    "        uv[i] = us              #on rempli uv avec la liste us\n",
    "    return(tv,uv)"
   ]
  },
  {
   "cell_type": "markdown",
   "metadata": {},
   "source": [
    "Une fois avoir stocké toutes les valeurs approximées des positions pour $\\theta_1$ et $\\theta_2$, il nous suffit de transformé les coordonnées polaires en coordonnées cartésiennes, donnés par les calculs suivants :\n",
    "\\begin{align}\n",
    "x_1&=l.sin(\\theta_1)\\\\\n",
    "y_1&=-l.cos(\\theta_2)\\\\\n",
    "x_2&=l.\\big(sin(\\theta_1)+sin(\\theta_2)\\big)\\\\\n",
    "y_2&=-l.\\big(cos(\\theta_1)+cos(\\theta_2)\\big)\\\\\n",
    "\\end{align}\n",
    "\n",
    "Encore une fois, nous utilisons des tableaux de zéros et nous remplaçons les valeurs des positions dans la boucle \"for\".\n",
    "Nous pouvons désormais donner une valeur sur la position des extrémités des bras après $20 s$, pour cela nous demandons un \"print\" a la fin de la cellule ci-dessous sur la dernière position de chaque nouveaux tableaux $x_1,y_1,x_2,y_2$ ( qui correspondent à la position au cours du temps ), c-à-d. les N-ème éléments de chaque tableaux."
   ]
  },
  {
   "cell_type": "code",
   "execution_count": 113,
   "metadata": {},
   "outputs": [
    {
     "name": "stdout",
     "output_type": "stream",
     "text": [
      "Position de l'extrémité du premier bras : (x1,y1) = ( 0.6626895606587564 , -0.748894215623211 )\n",
      "Position de l'extrémité du deuxième bras : (x2,y2) = ( 0.06008961250572198 , 0.04914920580569859 )\n"
     ]
    }
   ],
   "source": [
    "\"Convertions en coordonées cartésiennes\"\n",
    "solutions = RK4(f,u0,0.001,20,0)\n",
    "#tvs = solutions[0]             \n",
    "uvs = solutions[1]\n",
    "\n",
    "x1 = np.zeros(N)      #nouvelles listes de 0's taille N\n",
    "y1 = np.zeros(N)\n",
    "x2 = np.zeros(N)\n",
    "y2 = np.zeros(N)\n",
    "\n",
    "for i in range(N):\n",
    "    x1[i] = l*np.sin(uvs[i][0])\n",
    "    y1[i] = -l*np.cos(uvs[i][0])\n",
    "    x2[i] = l*(np.sin(uvs[i][0]) + np.sin( uvs[i][1] ))\n",
    "    y2[i] = -l*(np.cos( uvs[i][0] ) + np.cos( uvs[i][1] ))\n",
    "print( \"Position de l'extrémité du premier bras : (x1,y1) = (\",x1[N-1],\",\", y1[N-1],\")\")\n",
    "print( \"Position de l'extrémité du deuxième bras : (x2,y2) = (\",x2[N-1],\",\", y2[N-1],\")\")"
   ]
  },
  {
   "cell_type": "markdown",
   "metadata": {},
   "source": [
    "Maintenant, nous allons discuter de l'ordre de convergence de notre méthode RK4. \n",
    "\n",
    "#mettre du bla bla en plus + mettre en mieux l1_diff"
   ]
  },
  {
   "cell_type": "code",
   "execution_count": 111,
   "metadata": {},
   "outputs": [
    {
     "name": "stdout",
     "output_type": "stream",
     "text": [
      "[35.814261484183724, 12.421203705834023, 5.67442740252025, 0.06119552537160072, 0.0038618434916050325, 0.0]\n"
     ]
    },
    {
     "data": {
      "image/png": "[encoded data removed]",
      "text/plain": [
       "<Figure size 432x432 with 1 Axes>"
      ]
     },
     "metadata": {
      "needs_background": "light"
     },
     "output_type": "display_data"
    }
   ],
   "source": [
    "# Create an empty list to store the difference in the solution\n",
    "# between two consecutive grids.\n",
    "# Compute the differences in the x-position for all grids.\n",
    "def l1_diff(u_coarse, u_fine, dt):\n",
    "    \"\"\"\n",
    "    Returns the difference in the L1-norm between the solution on\n",
    "    a coarse grid and the solution on a fine grid.\n",
    "    \n",
    "    Parameters\n",
    "    ----------\n",
    "    u_coarse : numpy.ndarray\n",
    "        Solution on the coarse grid as a 1D array of floats.\n",
    "    u_fine : numpy.ndarray\n",
    "        Solution on the fine grid as a 1D array of floats.\n",
    "    dt : float\n",
    "        Time-step size.\n",
    "    \n",
    "    Returns\n",
    "    -------\n",
    "    diff : float\n",
    "        The difference between the two solution in the L1-norm\n",
    "        scaled by the time-step size.\n",
    "    \"\"\"\n",
    "    N_coarse = u_coarse.shape[0]\n",
    "    N_fine = u_fine.shape[0]\n",
    "    ratio = math.ceil(N_fine / N_coarse)\n",
    "    diff = dt * np.sum(np.abs(u_coarse - u_fine[::ratio]))\n",
    "    return diff\n",
    "\n",
    "dt_values = [0.1,0.01,0.005,0.001,0.0005,0.00025]\n",
    "u_values = [] \n",
    "diff_values = []\n",
    "\n",
    "for dt in dt_values:\n",
    "    sol = RK4(f,u0,dt,T,t0)[1]\n",
    "    u_values.append(sol) \n",
    "\n",
    "for y, dt in zip(u_values, dt_values):\n",
    "    diff = l1_diff(y[:, 2], u_values[-1][:, 2], dt)   \n",
    "    diff_values.append(diff)\n",
    "print(diff_values)\n",
    "\n",
    "# Plot difference versus the time-step size.\n",
    "pyplot.figure(figsize=(6.0, 6.0))\n",
    "pyplot.title('L1-norm of the difference vs. time-step size')\n",
    "pyplot.xlabel('$\\Delta t$')\n",
    "pyplot.ylabel('Difference')\n",
    "pyplot.grid()\n",
    "pyplot.loglog(dt_values[:-1], diff_values[:-1],\n",
    "              color='C0', linestyle='--', marker='o')\n",
    "pyplot.axis('equal');"
   ]
  },
  {
   "cell_type": "markdown",
   "metadata": {},
   "source": [
    "Nous remarquons une convergence se former au plus les time-steps deviennent petit, nous devrons alors faire un choix judicieux pour les time-steps. En vue du graphique, nous avons envie d'utiliser la différence entre les derniers time-step de notre liste de $dt_{values}$, c-à-d. les 2 derniers élémentes de $diff_{values}$. Ce sont ces 2 derniers éléments qui nous donnerons la meilleure approximation de l'ordre de convergence.\n",
    "De ce fait, nous avons les relations suivantes nous permettant d'avoir une valeur numérique sur l'ordre."
   ]
  },
  {
   "cell_type": "code",
   "execution_count": 112,
   "metadata": {},
   "outputs": [
    {
     "name": "stdout",
     "output_type": "stream",
     "text": [
      "L ordre de convergence est p = 3.986\n"
     ]
    }
   ],
   "source": [
    "\"Ordre de convergence\"\n",
    "\n",
    "f3_f2=diff_values[3]\n",
    "f2_f1=diff_values[4]\n",
    "# calcul de l'ordre de convergence\n",
    "p = math.log(f3_f2 / f2_f1) / math.log(r)\n",
    "\n",
    "print('L ordre de convergence est p = {:.3f}'.format(p));"
   ]
  },
  {
   "cell_type": "markdown",
   "metadata": {},
   "source": [
    "Nous remarquons que l'ordre de convergence est 4 avec une bonne approximation.\n",
    "\n",
    "Etudions maintenant le cas ou nous n'avons pas pris des time-steps appropriés. Prenons comme time-step initial $0.001$ et ensuite doublons 2 fois celui-ci et regardons l'ordre de convergence."
   ]
  },
  {
   "cell_type": "code",
   "execution_count": 116,
   "metadata": {},
   "outputs": [
    {
     "name": "stdout",
     "output_type": "stream",
     "text": [
      "L ordre de convergence est p = 3.024\n"
     ]
    }
   ],
   "source": [
    "\"Ordre de convergence\"\n",
    "\n",
    "s = 2  # time-step size refinement ratio\n",
    "h=0.001\n",
    "\n",
    "\n",
    "dt_values2 = [h,h*s,h*s**2]\n",
    "u_values2 =[]\n",
    "\n",
    "\n",
    "for ds in dt_values2:\n",
    "    sol2 = RK4(f,u0,ds,T,t0)[1]\n",
    "    u_values2.append(sol2)\n",
    "#calcul de g2 - g1\n",
    "g2_g1= l1_diff(u_values2[1], u_values2[0], dt_values2[1])\n",
    "\n",
    "#calcul de g3 - g2\n",
    "g3_g2 = l1_diff(u_values2[2], u_values2[1], dt_values2[2])\n",
    "G = math.log(g3_g2 / g2_g1) / math.log(s)\n",
    "\n",
    "print('L ordre de convergence est p = {:.3f}'.format(G));"
   ]
  },
  {
   "cell_type": "markdown",
   "metadata": {},
   "source": [
    "Ce résultat confirme bien que le choix des time-steps est important, comme nous le voyons sur le graphique proposé plus haut, il faut utiliser une précision assez importante pour pouvoir utiliser RK4 avec un ordre de convergence 4"
   ]
  },
  {
   "cell_type": "code",
   "execution_count": null,
   "metadata": {},
   "outputs": [],
   "source": [
    "# A FAIRE ABSOLUMENT\n",
    "\n",
    "fig = pyplot.figure()\n",
    "ax = fig.add_subplot(111, autoscale_on=False, xlim=(-2, 2), ylim=(-2, 2))\n",
    "\n",
    "line, = ax.plot([], [], 'o-', lw=2)\n",
    "time_template = 'time = %.1fs'\n",
    "time_text = ax.text(0.05, 0.9, '', transform=ax.transAxes)\n",
    "\n",
    "def init():\n",
    "    line.set_data([], [])\n",
    "    time_text.set_text('')\n",
    "    return line, time_text\n",
    "\n",
    "\n",
    "def animate(i):\n",
    "    thisx = [0, x1[i], x2[i]]\n",
    "    thisy = [0, y1[i], y2[i]]\n",
    "\n",
    "    line.set_data(thisx, thisy)\n",
    "    time_text.set_text(time_template % (i*dt))\n",
    "    return line, time_text\n",
    "\n",
    "ani = animation.FuncAnimation(fig, animate, np.arange(1, len(x1)),\n",
    "                              interval=100, blit=True, init_func=init, repeat=True)\n",
    "\n",
    "#ani.save('double_pendulum.mp4', fps=15)\n",
    "pyplot.show()\n",
    "HTML(ani.to_html5_video())"
   ]
  },
  {
   "cell_type": "code",
   "execution_count": null,
   "metadata": {},
   "outputs": [],
   "source": [
    "def make_plot(i):\n",
    "    # Plot and save an image of the double pendulum configuration for time\n",
    "    # point i.\n",
    "    # The pendulum rods.\n",
    "    ax.plot([0, x1[i], x2[i]], [0, y1[i], y2[i]], lw=2, c='k')\n",
    "    # Circles representing the anchor point of rod 1, and bobs 1 and 2.\n",
    "    c0 = Circle((0, 0), r/2, fc='k', zorder=10)\n",
    "    c1 = Circle((x1[i], y1[i]), r, fc='b', ec='b', zorder=10)\n",
    "    c2 = Circle((x2[i], y2[i]), r, fc='r', ec='r', zorder=10)\n",
    "    ax.add_patch(c0)\n",
    "    ax.add_patch(c1)\n",
    "    ax.add_patch(c2)\n",
    "\n",
    "    # The trail will be divided into ns segments and plotted as a fading line.\n",
    "    ns = 20\n",
    "    s = max_trail // ns\n",
    "\n",
    "    for j in range(ns):\n",
    "        imin = i - (ns-j)*s\n",
    "        if imin < 0:\n",
    "            continue\n",
    "        imax = imin + s + 1\n",
    "        # The fading looks better if we square the fractional length along the\n",
    "        # trail.\n",
    "        alpha = (j/ns)**2\n",
    "        ax.plot(x2[imin:imax], y2[imin:imax], c='r', solid_capstyle='butt',\n",
    "                lw=2, alpha=alpha)\n",
    "\n",
    "    # Centre the image on the fixed anchor point, and ensure the axes are equal\n",
    "    ax.set_xlim(-L1-L2-r, L1+L2+r)\n",
    "    ax.set_ylim(-L1-L2-r, L1+L2+r)\n",
    "    ax.set_aspect('equal', adjustable='box')\n",
    "    plt.axis('off')\n",
    "    plt.savefig('frames/_img{:04d}.png'.format(i//di), dpi=72)\n",
    "    plt.cla()"
   ]
  },
  {
   "cell_type": "code",
   "execution_count": null,
   "metadata": {},
   "outputs": [],
   "source": [
    "import sys\n",
    "import numpy as np\n",
    "from scipy.integrate import odeint\n",
    "import matplotlib.pyplot as plt\n",
    "from matplotlib.patches import Circle\n",
    "\n",
    "# Pendulum rod lengths (m), bob masses (kg).\n",
    "L1, L2 = 1, 1\n",
    "m1, m2 = 1, 1\n",
    "\n",
    "# Maximum time, time point spacings and the time grid (all in s).\n",
    "tmax, dt = 30, 0.01\n",
    "t = np.arange(0, tmax+dt, dt)\n",
    "\n",
    "\n",
    "# Plotted bob circle radius\n",
    "r = 0.05\n",
    "# Plot a trail of the m2 bob's position for the last trail_secs seconds.\n",
    "trail_secs = 1\n",
    "# This corresponds to max_trail time points.\n",
    "max_trail = int(trail_secs / dt)\n",
    "\n",
    "# Make an image every di time points, corresponding to a frame rate of fps\n",
    "# frames per second.\n",
    "# Frame rate, s-1\n",
    "fps = 10\n",
    "di = int(1/fps/dt)\n",
    "fig = plt.figure(figsize=(8.3333, 6.25), dpi=72)\n",
    "ax = fig.add_subplot(111)\n",
    "\n",
    "for i in range(0, t.size, di):\n",
    "    print(i // di, '/', t.size // di)\n",
    "    make_plot(i)"
   ]
  },
  {
   "cell_type": "code",
   "execution_count": null,
   "metadata": {},
   "outputs": [],
   "source": []
  },
  {
   "cell_type": "code",
   "execution_count": null,
   "metadata": {},
   "outputs": [],
   "source": []
  }
 ],
 "metadata": {
  "kernelspec": {
   "display_name": "Python 3",
   "language": "python",
   "name": "python3"
  },
  "language_info": {
   "codemirror_mode": {
    "name": "ipython",
    "version": 3
   },
   "file_extension": ".py",
   "mimetype": "text/x-python",
   "name": "python",
   "nbconvert_exporter": "python",
   "pygments_lexer": "ipython3",
   "version": "3.6.7"
  }
 },
 "nbformat": 4,
 "nbformat_minor": 2
}
