{
 "cells": [
  {
   "cell_type": "markdown",
   "metadata": {},
   "source": [
    "# Travail personnel 1 : Pendule double et Runge Kutta\n",
    "## Safae Ben Ayad & Maxime Langlet\n",
    "## 13 Novembre 2018\n"
   ]
  },
  {
   "cell_type": "markdown",
   "metadata": {},
   "source": [
    "Dans ce travail, nous nous intéressons au problème du pendule double.\n",
    "Il s'agit d'un premier pendule à l'extrémité duquel on accroche un deuxième pendule. Chacun des deux pendules est constitué lui-même d'un barreau de longueur $l$ et de masse $m$, le tout constitu donc le pendule double. \n",
    "\n",
    "On cherche à résoudre les équations du mouvement du pendule simple, pour ce faire nous allons tout d'abord décrire ce système grâce au formalisme lagrangien.\n",
    "\n",
    "$\\underline{Remarque}$: Nous allons prendre nos axes de manière à que y croise vers le haut et x croise vers la droite.\n",
    "\n",
    "Par définition du Langragien $L$ vaut: $$L = K - V $$ \n",
    "\n",
    "où $K = \\frac{1}{2}m(v^2)_1 + \\frac{1}{2}m(v^2)_2$ l'énergie cinétique du pendule\n",
    "et $V = mg(y_1 + y_2)$ l'énergie potentiel du pendule. \n"
   ]
  },
  {
   "cell_type": "code",
   "execution_count": 1,
   "metadata": {
    "collapsed": true
   },
   "outputs": [],
   "source": [
    "import numpy as np\n",
    "import math\n",
    "from matplotlib import pyplot\n",
    "%matplotlib inline"
   ]
  },
  {
   "cell_type": "code",
   "execution_count": 2,
   "metadata": {},
   "outputs": [
    {
     "ename": "NameError",
     "evalue": "name 'l' is not defined",
     "output_type": "error",
     "traceback": [
      "\u001b[0;31m---------------------------------------------------------------------------\u001b[0m",
      "\u001b[0;31mNameError\u001b[0m                                 Traceback (most recent call last)",
      "\u001b[0;32m<ipython-input-2-01d350f1ff3e>\u001b[0m in \u001b[0;36m<module>\u001b[0;34m()\u001b[0m\n\u001b[0;32m----> 1\u001b[0;31m \u001b[0mx1\u001b[0m \u001b[0;34m=\u001b[0m \u001b[0ml\u001b[0m\u001b[0;34m/\u001b[0m\u001b[0;36m2\u001b[0m\u001b[0;34m*\u001b[0m\u001b[0mnp\u001b[0m\u001b[0;34m.\u001b[0m\u001b[0msin\u001b[0m\u001b[0;34m(\u001b[0m\u001b[0ma1\u001b[0m\u001b[0;34m)\u001b[0m\u001b[0;34m\u001b[0m\u001b[0m\n\u001b[0m\u001b[1;32m      2\u001b[0m \u001b[0my1\u001b[0m \u001b[0;34m=\u001b[0m \u001b[0;34m-\u001b[0m\u001b[0ml\u001b[0m\u001b[0;34m/\u001b[0m\u001b[0;36m2\u001b[0m\u001b[0;34m*\u001b[0m\u001b[0mnp\u001b[0m\u001b[0;34m.\u001b[0m\u001b[0mcos\u001b[0m\u001b[0;34m(\u001b[0m\u001b[0ma1\u001b[0m\u001b[0;34m)\u001b[0m\u001b[0;34m\u001b[0m\u001b[0m\n\u001b[1;32m      3\u001b[0m \u001b[0;34m\u001b[0m\u001b[0m\n\u001b[1;32m      4\u001b[0m \u001b[0;34m\u001b[0m\u001b[0m\n\u001b[1;32m      5\u001b[0m \u001b[0mx2\u001b[0m \u001b[0;34m=\u001b[0m \u001b[0ml\u001b[0m\u001b[0;34m*\u001b[0m\u001b[0;34m(\u001b[0m\u001b[0mnp\u001b[0m\u001b[0;34m.\u001b[0m\u001b[0msin\u001b[0m\u001b[0;34m(\u001b[0m\u001b[0ma1\u001b[0m\u001b[0;34m)\u001b[0m\u001b[0;34m+\u001b[0m\u001b[0ml\u001b[0m\u001b[0;34m/\u001b[0m\u001b[0;36m2\u001b[0m\u001b[0;34m*\u001b[0m\u001b[0mnp\u001b[0m\u001b[0;34m.\u001b[0m\u001b[0msin\u001b[0m\u001b[0;34m(\u001b[0m\u001b[0ma2\u001b[0m\u001b[0;34m)\u001b[0m\u001b[0;34m)\u001b[0m\u001b[0;34m\u001b[0m\u001b[0m\n",
      "\u001b[0;31mNameError\u001b[0m: name 'l' is not defined"
     ]
    }
   ],
   "source": [
    "x1 = l/2*np.sin(a1) \n",
    "y1 = -l/2*np.cos(a1)\n",
    "\n",
    "\n",
    "x2 = l*(np.sin(a1)+l/2*np.sin(a2))\n",
    "y2 = -l*(np.cos(a1)+l/2*np.cos(a2))\n",
    "\n",
    "\n",
    "b1=6/(m*l**2)*(2*pa1-3*np.cos(a1-a2)*pa2)/(16-9*np.cos(a1-a2)**2)\n",
    "b2=6/(m*l**2)*(8*pa2-3*np.cos(a1-a2)*pa1)/(16-9*np.cos(a1-a2)**2)\n",
    "\n",
    "\n",
    "pa1 = 1/6*m*l**2(8*b1+3*b2*np.cos(a1-a2))\n",
    "pa2 = 1/6*m*l**2(2*b2+3*b1*np.cos(a1-a2))\n",
    "\n",
    "\n",
    "\n",
    "\n",
    "L = 1/6*m*l**2*(b2**2+4*b1**2+3*b1*b2*np.cos(a1-a2))-1/2*m*g*l*(3*np.cos(a1)+np.cos(a2))\n",
    "\n",
    "\n",
    "qa1 = -1/2*m*l**2*(b1*b2*np.sin(a1-a2)+3*g/l*np.sin(a1))\n",
    "qa2 = -1/2*m*l**2*(-b1*b2*np.sin(a1-a2)+g/l*np.sin(a2))"
   ]
  },
  {
   "cell_type": "code",
   "execution_count": 3,
   "metadata": {
    "collapsed": true
   },
   "outputs": [],
   "source": [
    "#Données/Conditions initiales\n",
    "l=1     #longueur\n",
    "m=1     #masse\n",
    "g=9.81\n",
    "a10=math.pi/2   #theta1 val initiale\n",
    "a20=math.pi/2   #theta2 val initiale\n",
    "pa10=0          #impulsion1 val initiale\n",
    "pa20=0          #impulsion2 val initiale\n",
    "t0=0\n",
    "T = 20.0  # length of the time interval\n",
    "dt = 0.001  # time-step size\n",
    "N = int(T / dt) + 1  # number of time steps\n",
    "u0 = np.array([a10,a20,pa10,pa20])\n",
    "\n",
    "\n",
    "#On def f comme la fonction f(u)=u'\n",
    "#u etant la liste nos variables\n",
    "#u' la liste des derivées (stockées dans results) \n",
    "\n",
    "def f(u):\n",
    "    a1=u[0]\n",
    "    a2=u[1]\n",
    "    pa1=u[2]\n",
    "    pa2=u[3]   \n",
    "    b1=6/(m*l**2)*(2*pa1-3*np.cos(a1-a2)*pa2)/(16-9*np.cos(a1-a2)**2)   #derivée de théta1\n",
    "    b2=6/(m*l**2)*(8*pa2-3*np.cos(a1-a2)*pa1)/(16-9*np.cos(a1-a2)**2)   #derivée de théta2\n",
    "    qa1 = -1/2*m*l**2*(b1*b2*np.sin(a1-a2)+3*g/l*np.sin(a1))            #dérivée de l'imp 1\n",
    "    qa2 = -1/2*m*l**2*(-b1*b2*np.sin(a1-a2)+g/l*np.sin(a2))             #dérivée de l'imp 2\n",
    "    result = np.array([b1,b2,qa1,qa2])                  #liste des derivées de nos variables\n",
    "    return result\n",
    "\n",
    "\n",
    "def RK4(f,u0,dt,T,t0):\n",
    "    N = int(T / dt) + 1 \n",
    "    \n",
    "    tv = np.zeros(N)      # liste de 0's pour stocker les valeurs des dt(intervalles de temps)\n",
    "    uv = np.zeros((N,4))    # matrice Nx4 de 0's pour stocker les solutions \n",
    "                          # en chaque ligne les differentes 4 variable pour un time-step \n",
    "                          # 4 variables (une par colonne) theta1, theta2, impul1, impul2\n",
    "            \n",
    "    tv[0]=t0              \n",
    "    uv[0]=u0\n",
    "    for i in range(1,N):\n",
    "        k1=dt*f(uv[i-1])\n",
    "        k2=dt*f(uv[i-1]+k1/2)\n",
    "        k3=dt*f(uv[i-1]+k2/2)\n",
    "        k4=dt*f(uv[i-1]+k3)\n",
    "        \n",
    "        #on crée liste us de 4élem avec les valeurs de uv qui change pour chaque dt (par R-K)\n",
    "        us = uv[i-1] + 1/6*(k1+2*k2+2*k3+k4) \n",
    "        \n",
    "        tv[i] = tv[i-1]+dt      #on stocke dans tv\n",
    "        uv[i] = us              #on rempli uv avec la liste us\n",
    "    return(tv,uv)"
   ]
  },
  {
   "cell_type": "code",
   "execution_count": 7,
   "metadata": {},
   "outputs": [
    {
     "name": "stdout",
     "output_type": "stream",
     "text": [
      "(array([0.0000e+00, 1.0000e-03, 2.0000e-03, ..., 1.9998e+01, 1.9999e+01,\n",
      "       2.0000e+01]), array([[ 1.57079633e+00,  1.57079633e+00,  0.00000000e+00,\n",
      "         0.00000000e+00],\n",
      "       [ 1.57079002e+00,  1.57079843e+00, -1.47150000e-02,\n",
      "        -4.90500000e-03],\n",
      "       [ 1.57077110e+00,  1.57080474e+00, -2.94300000e-02,\n",
      "        -9.81000000e-03],\n",
      "       ...,\n",
      "       [ 7.21180420e-01, -2.13368531e+01,  4.03948953e+00,\n",
      "        -2.06383822e+00],\n",
      "       [ 7.22796624e-01, -2.13406214e+01,  4.02955300e+00,\n",
      "        -2.06064867e+00],\n",
      "       [ 7.24404456e-01, -2.13443936e+01,  4.01958328e+00,\n",
      "        -2.05745844e+00]]))\n",
      "[[ 1.57079633e+00  1.57079633e+00  0.00000000e+00  0.00000000e+00]\n",
      " [ 1.57079002e+00  1.57079843e+00 -1.47150000e-02 -4.90500000e-03]\n",
      " [ 1.57077110e+00  1.57080474e+00 -2.94300000e-02 -9.81000000e-03]\n",
      " ...\n",
      " [ 7.21180420e-01 -2.13368531e+01  4.03948953e+00 -2.06383822e+00]\n",
      " [ 7.22796624e-01 -2.13406214e+01  4.02955300e+00 -2.06064867e+00]\n",
      " [ 7.24404456e-01 -2.13443936e+01  4.01958328e+00 -2.05745844e+00]]\n",
      "0.6626895606587564 -0.748894215623211 0.06008961250572198 0.04914920580569859\n",
      "20001\n"
     ]
    }
   ],
   "source": [
    "\"Convertions en coordonées cartésiennes\"\n",
    "solutions = RK4(f,u0,0.001,20,0)\n",
    "#tvs = solutions[0]             \n",
    "uvs = solutions[1]\n",
    "\n",
    "x1 = np.zeros(N)      #nouvelles listes de 0's taille N\n",
    "y1 = np.zeros(N)\n",
    "x2 = np.zeros(N)\n",
    "y2 = np.zeros(N)\n",
    "\n",
    "for i in range(N):\n",
    "    x1[i] = l*np.sin(uvs[i][0])\n",
    "    y1[i] = -l*np.cos(uvs[i][0])\n",
    "    x2[i] = l*(np.sin(uvs[i][0]) + np.sin( uvs[i][1] ))\n",
    "    y2[i] = -l*(np.cos( uvs[i][0] ) + np.cos( uvs[i][1] ))\n",
    "print( x1[N-1], y1[N-1], x2[N-1], y2[N-1])\n",
    "print(N)"
   ]
  },
  {
   "cell_type": "code",
   "execution_count": null,
   "metadata": {
    "collapsed": true
   },
   "outputs": [],
   "source": []
  },
  {
   "cell_type": "code",
   "execution_count": null,
   "metadata": {
    "collapsed": true
   },
   "outputs": [],
   "source": []
  },
  {
   "cell_type": "code",
   "execution_count": 5,
   "metadata": {},
   "outputs": [
    {
     "ename": "NameError",
     "evalue": "name 'animation' is not defined",
     "output_type": "error",
     "traceback": [
      "\u001b[0;31m---------------------------------------------------------------------------\u001b[0m",
      "\u001b[0;31mNameError\u001b[0m                                 Traceback (most recent call last)",
      "\u001b[0;32m<ipython-input-5-e0d13de8a395>\u001b[0m in \u001b[0;36m<module>\u001b[0;34m()\u001b[0m\n\u001b[1;32m     19\u001b[0m     \u001b[0;32mreturn\u001b[0m \u001b[0mline\u001b[0m\u001b[0;34m,\u001b[0m \u001b[0mtime_text\u001b[0m\u001b[0;34m\u001b[0m\u001b[0m\n\u001b[1;32m     20\u001b[0m \u001b[0;34m\u001b[0m\u001b[0m\n\u001b[0;32m---> 21\u001b[0;31m \u001b[0mani\u001b[0m \u001b[0;34m=\u001b[0m \u001b[0manimation\u001b[0m\u001b[0;34m.\u001b[0m\u001b[0mFuncAnimation\u001b[0m\u001b[0;34m(\u001b[0m\u001b[0mfig\u001b[0m\u001b[0;34m,\u001b[0m \u001b[0manimate\u001b[0m\u001b[0;34m,\u001b[0m \u001b[0mnumpy\u001b[0m\u001b[0;34m.\u001b[0m\u001b[0marange\u001b[0m\u001b[0;34m(\u001b[0m\u001b[0;36m1\u001b[0m\u001b[0;34m,\u001b[0m \u001b[0mlen\u001b[0m\u001b[0;34m(\u001b[0m\u001b[0my\u001b[0m\u001b[0;34m)\u001b[0m\u001b[0;34m)\u001b[0m\u001b[0;34m,\u001b[0m\u001b[0minterval\u001b[0m\u001b[0;34m=\u001b[0m\u001b[0;36m0.001\u001b[0m\u001b[0;34m,\u001b[0m \u001b[0mblit\u001b[0m\u001b[0;34m=\u001b[0m\u001b[0;32mTrue\u001b[0m\u001b[0;34m,\u001b[0m \u001b[0minit_func\u001b[0m\u001b[0;34m=\u001b[0m\u001b[0minit\u001b[0m\u001b[0;34m)\u001b[0m\u001b[0;34m\u001b[0m\u001b[0m\n\u001b[0m\u001b[1;32m     22\u001b[0m \u001b[0;34m\u001b[0m\u001b[0m\n\u001b[1;32m     23\u001b[0m \u001b[0;31m# ani.save('double_pendulum.mp4', fps=15)\u001b[0m\u001b[0;34m\u001b[0m\u001b[0;34m\u001b[0m\u001b[0m\n",
      "\u001b[0;31mNameError\u001b[0m: name 'animation' is not defined"
     ]
    },
    {
     "data": {
      "image/png": "[encoded data removed]",
      "text/plain": [
       "<Figure size 432x288 with 1 Axes>"
      ]
     },
     "metadata": {},
     "output_type": "display_data"
    }
   ],
   "source": [
    "fig = pyplot.figure()\n",
    "ax = fig.add_subplot(111, autoscale_on=False, xlim=(-2, 2), ylim=(-2, 2))\n",
    "ax.grid()\n",
    "\n",
    "line, = ax.plot([], [], 'r-', lw=3)\n",
    "time_template = 'time = %.1fs'\n",
    "time_text = ax.text(0.05, 0.9, '', transform=ax.transAxes)\n",
    "\n",
    "def init():\n",
    "    line.set_data([], [])\n",
    "    time_text.set_text('')\n",
    "    return line, time_text\n",
    "\n",
    "def animate(i):\n",
    "    thisx = [0, x1[i], x2[i]]\n",
    "    thisy = [0, y1[i], y2[i]]\n",
    "    line.set_data(thisx, thisy)\n",
    "    time_text.set_text(time_template % (i*h))\n",
    "    return line, time_text\n",
    "\n",
    "ani = animation.FuncAnimation(fig, animate, numpy.arange(1, len(y)),interval=0.001, blit=True, init_func=init)\n",
    "\n",
    "# ani.save('double_pendulum.mp4', fps=15)\n",
    "pyplot.show()\n",
    "\n",
    "\n",
    "# Set the font family and size to use for Matplotlib figures.\n",
    "# pyplot.rcParams['font.family'] = 'serif'\n",
    "# pyplot.rcParams['font.size'] = 16\n",
    "\n",
    "# Plot the solution of the elevation.\n",
    "# pyplot.figure(figsize=(12.0, 7.0))  # set the size of the figure\n",
    "# pyplot.title('Hauteur en fonction du temps')  # set the title\n",
    "# pyplot.xlabel('Temps [s]')  # set the x-axis label\n",
    "# pyplot.ylabel('Hauteur du CM du second barreau [m]')  # set the y-axis label\n",
    "# pyplot.xlim(t[0], t[-1])  # set the x-axis limits\n",
    "# pyplot.ylim(-2.0, 2.0)  # set the y-axis limits\n",
    "# pyplot.grid()  # set a background grid to improve readability\n",
    "# pyplot.plot(t, y2, color='C0', linestyle='-', linewidth=2);\n",
    "# pyplot.show()"
   ]
  },
  {
   "cell_type": "code",
   "execution_count": null,
   "metadata": {
    "collapsed": true
   },
   "outputs": [],
   "source": []
  }
 ],
 "metadata": {
  "kernelspec": {
   "display_name": "Python 3",
   "language": "python",
   "name": "python3"
  },
  "language_info": {
   "codemirror_mode": {
    "name": "ipython",
    "version": 3
   },
   "file_extension": ".py",
   "mimetype": "text/x-python",
   "name": "python",
   "nbconvert_exporter": "python",
   "pygments_lexer": "ipython3",
   "version": "3.6.3"
  }
 },
 "nbformat": 4,
 "nbformat_minor": 2
}
