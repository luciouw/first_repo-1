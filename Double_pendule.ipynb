{
 "cells": [
  {
   "cell_type": "markdown",
   "metadata": {},
   "source": [
    "# Travail personnel 1 : Pendule double et Runge Kutta\n",
    "## Safae Ben Ayad & Maxime Langlet\n",
    "## 13 Novembre 2018\n"
   ]
  },
  {
   "cell_type": "markdown",
   "metadata": {},
   "source": [
    "Dans ce travail, nous nous intéressons au problème du pendule double.\n",
    "Il s'agit d'un premier pendule à l'extrémité duquel on accroche un deuxième pendule. Chacun des deux pendules est constitué lui-même d'un barreau de longueur $l$ et de masse $m$, le tout constitu donc le pendule double. \n",
    "\n",
    "On cherche à résoudre les équations du mouvement du pendule simple, pour ce faire nous allons tout d'abord décrire ce système grâce au formalisme lagrangien.\n",
    "\n",
    "$\\underline{Remarque}$: Nous allons prendre nos axes de manière à que y croise vers le haut et x croise vers la droite.\n",
    "\n",
    "Par définition du Langragien $L$ vaut: $$L = K - V $$ \n",
    "\n",
    "où $K = \\frac{1}{2}m(v^2)_1 + \\frac{1}{2}m(v^2)_2$ l'énergie cinétique du pendule\n",
    "et $V = mg(y_1 + y_2)$ l'énergie potentiel du pendule. \n"
   ]
  },
  {
   "cell_type": "code",
   "execution_count": 94,
   "metadata": {},
   "outputs": [],
   "source": [
    "import numpy as np\n",
    "import math\n",
    "from matplotlib import pyplot\n",
    "%matplotlib inline\n",
    "from matplotlib import animation\n",
    "import scipy.integrate as integrate\n",
    "import matplotlib.animation as animation\n",
    "from IPython.display import HTML"
   ]
  },
  {
   "cell_type": "code",
   "execution_count": 3,
   "metadata": {},
   "outputs": [
    {
     "ename": "NameError",
     "evalue": "name 'l' is not defined",
     "output_type": "error",
     "traceback": [
      "\u001b[0;31m---------------------------------------------------------------------------\u001b[0m",
      "\u001b[0;31mNameError\u001b[0m                                 Traceback (most recent call last)",
      "\u001b[0;32m<ipython-input-3-72dc571c9db8>\u001b[0m in \u001b[0;36m<module>\u001b[0;34m()\u001b[0m\n\u001b[0;32m----> 1\u001b[0;31m \u001b[0mx1\u001b[0m \u001b[0;34m=\u001b[0m \u001b[0ml\u001b[0m\u001b[0;34m/\u001b[0m\u001b[0;36m2\u001b[0m\u001b[0;34m*\u001b[0m\u001b[0mnp\u001b[0m\u001b[0;34m.\u001b[0m\u001b[0msin\u001b[0m\u001b[0;34m(\u001b[0m\u001b[0ma1\u001b[0m\u001b[0;34m)\u001b[0m\u001b[0;34m\u001b[0m\u001b[0m\n\u001b[0m\u001b[1;32m      2\u001b[0m \u001b[0my1\u001b[0m \u001b[0;34m=\u001b[0m \u001b[0;34m-\u001b[0m\u001b[0ml\u001b[0m\u001b[0;34m/\u001b[0m\u001b[0;36m2\u001b[0m\u001b[0;34m*\u001b[0m\u001b[0mnp\u001b[0m\u001b[0;34m.\u001b[0m\u001b[0mcos\u001b[0m\u001b[0;34m(\u001b[0m\u001b[0ma1\u001b[0m\u001b[0;34m)\u001b[0m\u001b[0;34m\u001b[0m\u001b[0m\n\u001b[1;32m      3\u001b[0m \u001b[0;34m\u001b[0m\u001b[0m\n\u001b[1;32m      4\u001b[0m \u001b[0;34m\u001b[0m\u001b[0m\n\u001b[1;32m      5\u001b[0m \u001b[0mx2\u001b[0m \u001b[0;34m=\u001b[0m \u001b[0ml\u001b[0m\u001b[0;34m*\u001b[0m\u001b[0;34m(\u001b[0m\u001b[0mnp\u001b[0m\u001b[0;34m.\u001b[0m\u001b[0msin\u001b[0m\u001b[0;34m(\u001b[0m\u001b[0ma1\u001b[0m\u001b[0;34m)\u001b[0m\u001b[0;34m+\u001b[0m\u001b[0ml\u001b[0m\u001b[0;34m/\u001b[0m\u001b[0;36m2\u001b[0m\u001b[0;34m*\u001b[0m\u001b[0mnp\u001b[0m\u001b[0;34m.\u001b[0m\u001b[0msin\u001b[0m\u001b[0;34m(\u001b[0m\u001b[0ma2\u001b[0m\u001b[0;34m)\u001b[0m\u001b[0;34m)\u001b[0m\u001b[0;34m\u001b[0m\u001b[0m\n",
      "\u001b[0;31mNameError\u001b[0m: name 'l' is not defined"
     ]
    }
   ],
   "source": [
    "x1 = l/2*np.sin(a1) \n",
    "y1 = -l/2*np.cos(a1)\n",
    "\n",
    "\n",
    "x2 = l*(np.sin(a1)+l/2*np.sin(a2))\n",
    "y2 = -l*(np.cos(a1)+l/2*np.cos(a2))\n",
    "\n",
    "\n",
    "b1=6/(m*l**2)*(2*pa1-3*np.cos(a1-a2)*pa2)/(16-9*np.cos(a1-a2)**2)\n",
    "b2=6/(m*l**2)*(8*pa2-3*np.cos(a1-a2)*pa1)/(16-9*np.cos(a1-a2)**2)\n",
    "\n",
    "\n",
    "pa1 = 1/6*m*l**2(8*b1+3*b2*np.cos(a1-a2))\n",
    "pa2 = 1/6*m*l**2(2*b2+3*b1*np.cos(a1-a2))\n",
    "\n",
    "\n",
    "\n",
    "\n",
    "L = 1/6*m*l**2*(b2**2+4*b1**2+3*b1*b2*np.cos(a1-a2))-1/2*m*g*l*(3*np.cos(a1)+np.cos(a2))\n",
    "\n",
    "\n",
    "qa1 = -1/2*m*l**2*(b1*b2*np.sin(a1-a2)+3*g/l*np.sin(a1))\n",
    "qa2 = -1/2*m*l**2*(-b1*b2*np.sin(a1-a2)+g/l*np.sin(a2))"
   ]
  },
  {
   "cell_type": "code",
   "execution_count": 70,
   "metadata": {},
   "outputs": [],
   "source": [
    "#Données/Conditions initiales\n",
    "l=1     #longueur\n",
    "m=1     #masse\n",
    "g=9.81\n",
    "a10=math.pi/2   #theta1 val initiale\n",
    "a20=math.pi/2   #theta2 val initiale\n",
    "pa10=0          #impulsion1 val initiale\n",
    "pa20=0          #impulsion2 val initiale\n",
    "t0=0\n",
    "T = 20.0  # length of the time interval\n",
    "dt = 0.001  # time-step size\n",
    "N = int(T / dt) + 1  # number of time steps\n",
    "u0 = np.array([a10,a20,pa10,pa20])\n",
    "\n",
    "\n",
    "#On def f comme la fonction f(u)=u'\n",
    "#u etant la liste nos variables\n",
    "#u' la liste des derivées (stockées dans results) \n",
    "\n",
    "def f(u):\n",
    "    a1=u[0]\n",
    "    a2=u[1]\n",
    "    pa1=u[2]\n",
    "    pa2=u[3]   \n",
    "    b1=6/(m*l**2)*(2*pa1-3*np.cos(a1-a2)*pa2)/(16-9*np.cos(a1-a2)**2)   #derivée de théta1\n",
    "    b2=6/(m*l**2)*(8*pa2-3*np.cos(a1-a2)*pa1)/(16-9*np.cos(a1-a2)**2)   #derivée de théta2\n",
    "    qa1 = -1/2*m*l**2*(b1*b2*np.sin(a1-a2)+3*g/l*np.sin(a1))            #dérivée de l'imp 1\n",
    "    qa2 = -1/2*m*l**2*(-b1*b2*np.sin(a1-a2)+g/l*np.sin(a2))             #dérivée de l'imp 2\n",
    "    result = np.array([b1,b2,qa1,qa2])                  #liste des derivées de nos variables\n",
    "    return result\n",
    "\n",
    "\n",
    "def RK4(f,u0,dt,T,t0):\n",
    "    N = int(T / dt) + 1 \n",
    "    \n",
    "    tv = np.zeros(N)      # liste de 0's pour stocker les valeurs des dt(intervalles de temps)\n",
    "    uv = np.zeros((N,4))    # matrice Nx4 de 0's pour stocker les solutions \n",
    "                          # en chaque ligne les differentes 4 variable pour un time-step \n",
    "                          # 4 variables (une par colonne) theta1, theta2, impul1, impul2\n",
    "            \n",
    "    tv[0]=t0              \n",
    "    uv[0]=u0\n",
    "    for i in range(1,N):\n",
    "        k1=dt*f(uv[i-1])\n",
    "        k2=dt*f(uv[i-1]+k1/2)\n",
    "        k3=dt*f(uv[i-1]+k2/2)\n",
    "        k4=dt*f(uv[i-1]+k3)\n",
    "        \n",
    "        #on crée liste us de 4élem avec les valeurs de uv qui change pour chaque dt (par R-K)\n",
    "        us = uv[i-1] + 1/6*(k1+2*k2+2*k3+k4) \n",
    "        \n",
    "        tv[i] = tv[i-1]+dt      #on stocke dans tv\n",
    "        uv[i] = us              #on rempli uv avec la liste us\n",
    "    return(tv,uv)"
   ]
  },
  {
   "cell_type": "code",
   "execution_count": 71,
   "metadata": {},
   "outputs": [
    {
     "name": "stdout",
     "output_type": "stream",
     "text": [
      "0.6626895606587564 -0.748894215623211 0.06008961250572198 0.04914920580569859\n"
     ]
    }
   ],
   "source": [
    "\"Convertions en coordonées cartésiennes\"\n",
    "solutions = RK4(f,u0,0.001,20,0)\n",
    "#tvs = solutions[0]             \n",
    "uvs = solutions[1]\n",
    "\n",
    "x1 = np.zeros(N)      #nouvelles listes de 0's taille N\n",
    "y1 = np.zeros(N)\n",
    "x2 = np.zeros(N)\n",
    "y2 = np.zeros(N)\n",
    "\n",
    "for i in range(N):\n",
    "    x1[i] = l*np.sin(uvs[i][0])\n",
    "    y1[i] = -l*np.cos(uvs[i][0])\n",
    "    x2[i] = l*(np.sin(uvs[i][0]) + np.sin( uvs[i][1] ))\n",
    "    y2[i] = -l*(np.cos( uvs[i][0] ) + np.cos( uvs[i][1] ))\n",
    "print( x1[N-1], y1[N-1], x2[N-1], y2[N-1])"
   ]
  },
  {
   "cell_type": "code",
   "execution_count": 72,
   "metadata": {},
   "outputs": [
    {
     "name": "stdout",
     "output_type": "stream",
     "text": [
      "[array([[ 1.57079633e+00,  1.57079633e+00,  0.00000000e+00,\n",
      "         0.00000000e+00],\n",
      "       [ 1.57079002e+00,  1.57079843e+00, -1.47150000e-02,\n",
      "        -4.90500000e-03],\n",
      "       [ 1.57077110e+00,  1.57080474e+00, -2.94300000e-02,\n",
      "        -9.81000000e-03],\n",
      "       ...,\n",
      "       [ 7.21180420e-01, -2.13368531e+01,  4.03948953e+00,\n",
      "        -2.06383822e+00],\n",
      "       [ 7.22796624e-01, -2.13406214e+01,  4.02955300e+00,\n",
      "        -2.06064867e+00],\n",
      "       [ 7.24404456e-01, -2.13443936e+01,  4.01958328e+00,\n",
      "        -2.05745844e+00]]), array([[ 1.57079633e+00,  1.57079633e+00,  0.00000000e+00,\n",
      "         0.00000000e+00],\n",
      "       [ 1.57077110e+00,  1.57080474e+00, -2.94300000e-02,\n",
      "        -9.81000000e-03],\n",
      "       [ 1.57069542e+00,  1.57082996e+00, -5.88600000e-02,\n",
      "        -1.96200000e-02],\n",
      "       ...,\n",
      "       [ 6.25345705e-01, -2.18614375e+01,  3.21089718e+00,\n",
      "        -2.15686932e+00],\n",
      "       [ 6.26315644e-01, -2.18730955e+01,  3.19229784e+00,\n",
      "        -2.15429705e+00],\n",
      "       [ 6.27287255e-01, -2.18847451e+01,  3.17364279e+00,\n",
      "        -2.15180573e+00]]), array([[  1.57079633,   1.57079633,   0.        ,   0.        ],\n",
      "       [  1.57069542,   1.57082996,  -0.05886   ,  -0.01962   ],\n",
      "       [  1.57039272,   1.57093086,  -0.11772   ,  -0.03924   ],\n",
      "       ...,\n",
      "       [  0.67886848, -11.07454499,  -1.64727769,   1.87696962],\n",
      "       [  0.66449478, -11.03742985,  -1.73349508,   1.90697738],\n",
      "       [  0.65062758, -11.0012706 ,  -1.81814498,   1.9360415 ]])] 3\n",
      "Observed order of convergence: p = 3.024\n"
     ]
    }
   ],
   "source": [
    "\"Ordre de convergence(normalement 4 je sais pas ou est l'erreur)\"\n",
    "\n",
    "def l1_diff(u_coarse, u_fine, dt):\n",
    "    \"\"\"\n",
    "    Returns the difference in the L1-norm between the solution on\n",
    "    a coarse grid and the solution on a fine grid.\n",
    "    \n",
    "    Parameters\n",
    "    ----------\n",
    "    u_coarse : numpy.ndarray\n",
    "        Solution on the coarse grid as a 1D array of floats.\n",
    "    u_fine : numpy.ndarray\n",
    "        Solution on the fine grid as a 1D array of floats.\n",
    "    dt : float\n",
    "        Time-step size.\n",
    "    \n",
    "    Returns\n",
    "    -------\n",
    "    diff : float\n",
    "        The difference between the two solution in the L1-norm\n",
    "        scaled by the time-step size.\n",
    "    \"\"\"\n",
    "    N_coarse = u_coarse.shape[0]\n",
    "    N_fine = u_fine.shape[0]\n",
    "    ratio = math.ceil(N_fine / N_coarse)\n",
    "    diff = dt * np.sum(np.abs(u_coarse - u_fine[::ratio]))\n",
    "    return diff\n",
    "\n",
    "r = 2  # time-step size refinement ratio\n",
    "h = 0.001  # finest time-step size\n",
    "t0 = 0\n",
    "T = 20\n",
    "\n",
    "dt_values = [h,h*r,h*r**2]\n",
    "u_values = []    #liste de zeros\n",
    "\n",
    "for dt in dt_values:\n",
    "    sol = RK4(f,u0,dt,T,t0)[1]\n",
    "    u_values.append(sol) \n",
    "print(u_values,len(u_values))\n",
    "\n",
    "# Compute the observed order of convergence.\n",
    "p = (math.log(l1_diff(u_values[2], u_values[1], dt_values[2]) /\n",
    "              l1_diff(u_values[1], u_values[0], dt_values[1])) /\n",
    "     math.log(r))\n",
    "\n",
    "print('Observed order of convergence: p = {:.3f}'.format(p))"
   ]
  },
  {
   "cell_type": "code",
   "execution_count": 96,
   "metadata": {},
   "outputs": [
    {
     "data": {
      "image/png": "[encoded data removed]",
      "text/plain": [
       "<Figure size 432x432 with 1 Axes>"
      ]
     },
     "metadata": {
      "needs_background": "light"
     },
     "output_type": "display_data"
    }
   ],
   "source": [
    "# Create an empty list to store the difference in the solution\n",
    "# between two consecutive grids.\n",
    "# Compute the differences in the x-position for all grids.\n",
    "dt_values = [0.1,0.01,0.005,0.001,0.0005,0.00025]\n",
    "u_values = []    #liste de zeros\n",
    "\n",
    "for dt in dt_values:\n",
    "    sol = RK4(f,u0,dt,T,t0)[1]\n",
    "    u_values.append(sol) \n",
    "\n",
    "dt_values = [0.1,0.01,0.005,0.001,0.0005,0.00025]\n",
    "diff_values = []\n",
    "for y, dt in zip(u_values, dt_values):\n",
    "    diff = l1_diff(y[:, 2], u_values[-1][:, 2], dt)   \n",
    "    diff_values.append(diff)\n",
    "    \n",
    "\n",
    "# Plot difference versus the time-step size.\n",
    "pyplot.figure(figsize=(6.0, 6.0))\n",
    "pyplot.title('L1-norm of the difference vs. time-step size')\n",
    "pyplot.xlabel('$\\Delta t$')\n",
    "pyplot.ylabel('Difference')\n",
    "pyplot.grid()\n",
    "pyplot.loglog(dt_values[:-1], diff_values[:-1],\n",
    "              color='C0', linestyle='--', marker='o')\n",
    "pyplot.axis('equal');"
   ]
  },
  {
   "cell_type": "code",
   "execution_count": 95,
   "metadata": {},
   "outputs": [
    {
     "ename": "RuntimeError",
     "evalue": "Requested MovieWriter (ffmpeg) not available",
     "output_type": "error",
     "traceback": [
      "\u001b[0;31m---------------------------------------------------------------------------\u001b[0m",
      "\u001b[0;31mKeyError\u001b[0m                                  Traceback (most recent call last)",
      "\u001b[0;32m~/miniconda3/lib/python3.6/site-packages/matplotlib/animation.py\u001b[0m in \u001b[0;36m__getitem__\u001b[0;34m(self, name)\u001b[0m\n\u001b[1;32m    169\u001b[0m         \u001b[0;32mtry\u001b[0m\u001b[0;34m:\u001b[0m\u001b[0;34m\u001b[0m\u001b[0m\n\u001b[0;32m--> 170\u001b[0;31m             \u001b[0;32mreturn\u001b[0m \u001b[0mself\u001b[0m\u001b[0;34m.\u001b[0m\u001b[0mavail\u001b[0m\u001b[0;34m[\u001b[0m\u001b[0mname\u001b[0m\u001b[0;34m]\u001b[0m\u001b[0;34m\u001b[0m\u001b[0m\n\u001b[0m\u001b[1;32m    171\u001b[0m         \u001b[0;32mexcept\u001b[0m \u001b[0mKeyError\u001b[0m\u001b[0;34m:\u001b[0m\u001b[0;34m\u001b[0m\u001b[0m\n",
      "\u001b[0;31mKeyError\u001b[0m: 'ffmpeg'",
      "\nDuring handling of the above exception, another exception occurred:\n",
      "\u001b[0;31mRuntimeError\u001b[0m                              Traceback (most recent call last)",
      "\u001b[0;32m<ipython-input-95-a3dcadb2f217>\u001b[0m in \u001b[0;36m<module>\u001b[0;34m()\u001b[0m\n\u001b[1;32m     25\u001b[0m \u001b[0manim\u001b[0m \u001b[0;34m=\u001b[0m \u001b[0manimation\u001b[0m\u001b[0;34m.\u001b[0m\u001b[0mFuncAnimation\u001b[0m\u001b[0;34m(\u001b[0m\u001b[0mfig\u001b[0m\u001b[0;34m,\u001b[0m \u001b[0manimate\u001b[0m\u001b[0;34m,\u001b[0m \u001b[0minit_func\u001b[0m\u001b[0;34m=\u001b[0m\u001b[0minit\u001b[0m\u001b[0;34m,\u001b[0m\u001b[0mframes\u001b[0m\u001b[0;34m=\u001b[0m\u001b[0mint\u001b[0m\u001b[0;34m(\u001b[0m\u001b[0mlen\u001b[0m\u001b[0;34m(\u001b[0m\u001b[0mdata\u001b[0m\u001b[0;34m[\u001b[0m\u001b[0;36m1\u001b[0m\u001b[0;34m]\u001b[0m\u001b[0;34m)\u001b[0m\u001b[0;34m)\u001b[0m\u001b[0;34m,\u001b[0m \u001b[0minterval\u001b[0m\u001b[0;34m=\u001b[0m\u001b[0;36m20\u001b[0m\u001b[0;34m,\u001b[0m \u001b[0mblit\u001b[0m\u001b[0;34m=\u001b[0m\u001b[0;32mTrue\u001b[0m\u001b[0;34m)\u001b[0m\u001b[0;34m\u001b[0m\u001b[0m\n\u001b[1;32m     26\u001b[0m \u001b[0;31m#anim.save(\"double_pendulum.mp4\", fps=fact*5/2)\u001b[0m\u001b[0;34m\u001b[0m\u001b[0;34m\u001b[0m\u001b[0m\n\u001b[0;32m---> 27\u001b[0;31m \u001b[0mHTML\u001b[0m\u001b[0;34m(\u001b[0m\u001b[0manim\u001b[0m\u001b[0;34m.\u001b[0m\u001b[0mto_html5_video\u001b[0m\u001b[0;34m(\u001b[0m\u001b[0;34m)\u001b[0m\u001b[0;34m)\u001b[0m\u001b[0;34m\u001b[0m\u001b[0m\n\u001b[0m",
      "\u001b[0;32m~/miniconda3/lib/python3.6/site-packages/matplotlib/animation.py\u001b[0m in \u001b[0;36mto_html5_video\u001b[0;34m(self, embed_limit)\u001b[0m\n\u001b[1;32m   1347\u001b[0m                 \u001b[0;31m# We create a writer manually so that we can get the\u001b[0m\u001b[0;34m\u001b[0m\u001b[0;34m\u001b[0m\u001b[0m\n\u001b[1;32m   1348\u001b[0m                 \u001b[0;31m# appropriate size for the tag\u001b[0m\u001b[0;34m\u001b[0m\u001b[0;34m\u001b[0m\u001b[0m\n\u001b[0;32m-> 1349\u001b[0;31m                 \u001b[0mWriter\u001b[0m \u001b[0;34m=\u001b[0m \u001b[0mwriters\u001b[0m\u001b[0;34m[\u001b[0m\u001b[0mrcParams\u001b[0m\u001b[0;34m[\u001b[0m\u001b[0;34m'animation.writer'\u001b[0m\u001b[0;34m]\u001b[0m\u001b[0;34m]\u001b[0m\u001b[0;34m\u001b[0m\u001b[0m\n\u001b[0m\u001b[1;32m   1350\u001b[0m                 writer = Writer(codec='h264',\n\u001b[1;32m   1351\u001b[0m                                 \u001b[0mbitrate\u001b[0m\u001b[0;34m=\u001b[0m\u001b[0mrcParams\u001b[0m\u001b[0;34m[\u001b[0m\u001b[0;34m'animation.bitrate'\u001b[0m\u001b[0;34m]\u001b[0m\u001b[0;34m,\u001b[0m\u001b[0;34m\u001b[0m\u001b[0m\n",
      "\u001b[0;32m~/miniconda3/lib/python3.6/site-packages/matplotlib/animation.py\u001b[0m in \u001b[0;36m__getitem__\u001b[0;34m(self, name)\u001b[0m\n\u001b[1;32m    171\u001b[0m         \u001b[0;32mexcept\u001b[0m \u001b[0mKeyError\u001b[0m\u001b[0;34m:\u001b[0m\u001b[0;34m\u001b[0m\u001b[0m\n\u001b[1;32m    172\u001b[0m             raise RuntimeError(\n\u001b[0;32m--> 173\u001b[0;31m                 'Requested MovieWriter ({}) not available'.format(name))\n\u001b[0m\u001b[1;32m    174\u001b[0m \u001b[0;34m\u001b[0m\u001b[0m\n\u001b[1;32m    175\u001b[0m \u001b[0;34m\u001b[0m\u001b[0m\n",
      "\u001b[0;31mRuntimeError\u001b[0m: Requested MovieWriter (ffmpeg) not available"
     ]
    },
    {
     "data": {
      "image/png": "[encoded data removed]",
      "text/plain": [
       "<Figure size 432x288 with 1 Axes>"
      ]
     },
     "metadata": {
      "needs_background": "light"
     },
     "output_type": "display_data"
    }
   ],
   "source": [
    "\"reste du travail\"\n",
    "\n",
    "\n",
    "data = solutions\n",
    "fig = pyplot.figure()\n",
    "ax = fig.add_subplot(111, autoscale_on=False, xlim=(-2, 2), ylim=(-2, 2))\n",
    "ax.grid()\n",
    "pyplot.gca().set_aspect('equal', adjustable='box')\n",
    "\n",
    "line, = ax.plot([], [], 'r-', lw=3)\n",
    "extremity, = ax.plot([], [], 'black', lw=1)\n",
    "time_template = 'time = %.1fs'\n",
    "time_text = ax.text(0.05, 0.9, '', transform=ax.transAxes)\n",
    "\n",
    "def init():\n",
    "    line.set_data([], [])\n",
    "    time_text.set_text('')\n",
    "    return line, time_text\n",
    "\n",
    "def animate(i):\n",
    "    thisx = [0, x1[i], x2[i]]\n",
    "    thisy = [0, y1[i], y2[i]]\n",
    "    line.set_data(thisx, thisy)\n",
    "    extremity.set_data(x2[:i+1], y2[:i+1])\n",
    "    time_text.set_text(time_template % (data[0][i]))\n",
    "    return extremity, line, time_text\n",
    "\n",
    "anim = animation.FuncAnimation(fig, animate, init_func=init,frames=int(len(data[1])), interval=20, blit=True)\n",
    "#anim.save(\"double_pendulum.mp4\", fps=fact*5/2)\n",
    "HTML(anim.to_html5_video())"
   ]
  },
  {
   "cell_type": "code",
   "execution_count": 39,
   "metadata": {},
   "outputs": [
    {
     "data": {
      "image/png": "[encoded data removed]",
      "text/plain": [
       "<Figure size 432x288 with 1 Axes>"
      ]
     },
     "metadata": {
      "needs_background": "light"
     },
     "output_type": "display_data"
    }
   ],
   "source": [
    "fig = pyplot.figure()\n",
    "ax = fig.add_subplot(111, autoscale_on=False, xlim=(-2, 2), ylim=(-2, 2))\n",
    "ax.grid()\n",
    "\n",
    "line, = ax.plot([], [], 'r-', lw=3)\n",
    "time_template = 'time = %.1fs'\n",
    "time_text = ax.text(0.05, 0.9, '', transform=ax.transAxes)\n",
    "\n",
    "def init():\n",
    "    line.set_data([], [])\n",
    "    time_text.set_text('')\n",
    "    return line, time_text\n",
    "\n",
    "def animate(i):\n",
    "    thisx = [0, x1[i], x2[i]]\n",
    "    thisy = [0, y1[i], y2[i]]\n",
    "    line.set_data(thisx, thisy)\n",
    "    time_text.set_text(time_template % (i*h))\n",
    "    return line, time_text\n",
    "\n",
    "ani = animation.FuncAnimation(fig, animate, np.arange(1, len(u)),interval=0.001, blit=True, init_func=init)\n",
    "\n",
    "# ani.save('double_pendulum.mp4', fps=15)\n",
    "pyplot.show()\n",
    "\n",
    "\n",
    "# Set the font family and size to use for Matplotlib figures.\n",
    "# pyplot.rcParams['font.family'] = 'serif'\n",
    "# pyplot.rcParams['font.size'] = 16\n",
    "\n",
    "# Plot the solution of the elevation.\n",
    "# pyplot.figure(figsize=(12.0, 7.0))  # set the size of the figure\n",
    "# pyplot.title('Hauteur en fonction du temps')  # set the title\n",
    "# pyplot.xlabel('Temps [s]')  # set the x-axis label\n",
    "# pyplot.ylabel('Hauteur du CM du second barreau [m]')  # set the y-axis label\n",
    "# pyplot.xlim(t[0], t[-1])  # set the x-axis limits\n",
    "# pyplot.ylim(-2.0, 2.0)  # set the y-axis limits\n",
    "# pyplot.grid()  # set a background grid to improve readability\n",
    "# pyplot.plot(t, y2, color='C0', linestyle='-', linewidth=2);\n",
    "# pyplot.show()"
   ]
  },
  {
   "cell_type": "code",
   "execution_count": null,
   "metadata": {
    "collapsed": true
   },
   "outputs": [],
   "source": []
  }
 ],
 "metadata": {
  "kernelspec": {
   "display_name": "Python 3",
   "language": "python",
   "name": "python3"
  },
  "language_info": {
   "codemirror_mode": {
    "name": "ipython",
    "version": 3
   },
   "file_extension": ".py",
   "mimetype": "text/x-python",
   "name": "python",
   "nbconvert_exporter": "python",
   "pygments_lexer": "ipython3",
   "version": "3.6.3"
  }
 },
 "nbformat": 4,
 "nbformat_minor": 2
}
